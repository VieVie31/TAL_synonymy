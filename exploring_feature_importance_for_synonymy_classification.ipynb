{
 "cells": [
  {
   "cell_type": "markdown",
   "metadata": {},
   "source": [
    "# Are some features responsibles for encoding synonymy ?"
   ]
  },
  {
   "cell_type": "code",
   "execution_count": 1,
   "metadata": {},
   "outputs": [
    {
     "name": "stdout",
     "output_type": "stream",
     "text": [
      "[nltk_data] Downloading package wordnet to /Users/olivier/nltk_data...\n",
      "[nltk_data]   Package wordnet is already up-to-date!\n"
     ]
    },
    {
     "data": {
      "text/plain": [
       "True"
      ]
     },
     "execution_count": 1,
     "metadata": {},
     "output_type": "execute_result"
    }
   ],
   "source": [
    "import sklearn\n",
    "\n",
    "from sklearn.svm import LinearSVC\n",
    "from sklearn.tree import DecisionTreeClassifier\n",
    "from sklearn.linear_model import LogisticRegression\n",
    "\n",
    "import graphviz\n",
    "import numpy as np\n",
    "import matplotlib.pyplot as plt\n",
    "\n",
    "from tqdm import tqdm\n",
    "from random import shuffle\n",
    "\n",
    "import gensim\n",
    "\n",
    "from gensim.models import KeyedVectors\n",
    "\n",
    "import nltk\n",
    "\n",
    "from nltk.corpus import wordnet as wn\n",
    "\n",
    "nltk.download('wordnet')"
   ]
  },
  {
   "cell_type": "code",
   "execution_count": 2,
   "metadata": {},
   "outputs": [],
   "source": [
    "#get infos in wordnet\n",
    "def get_wornet_synonyms_hypernyms(noun, words_filter=None):\n",
    "    \"\"\"Return le list of hypernyms and hyponyms of a word from wordvec.\n",
    "    \n",
    "    :param noun: the noun to find some synonyms\n",
    "    :param words_filter: a list, if not None, return only words contained in this list\n",
    "\n",
    "    :type noun: str\n",
    "    :type words_filter: list(str)\n",
    "\n",
    "    :return: a list of synonyms \n",
    "    :rtype: list(str)\n",
    "    \"\"\"\n",
    "    try:\n",
    "        hypernyms = wn.synsets(noun)[0].hypernyms()[0].lemma_names() #NB: on ne prend que le premier\n",
    "    except:\n",
    "        hypernyms = []\n",
    "    try:\n",
    "        hyponyms = wn.synsets(noun)[0].hyponyms()[0].lemma_names() #NB: on ne prend que le premier\n",
    "    except:\n",
    "        hyponyms = []\n",
    "    if words_filter:\n",
    "        out = []\n",
    "        for w in hypernyms + hyponyms:\n",
    "            if w in words_filter:\n",
    "                out.append(w)\n",
    "        return out\n",
    "    return hypernyms + hyponyms\n",
    "\n",
    "def get_wornet_synonyms(noun, words_filter=None):\n",
    "    \"\"\"Return le list of synonyms of a word from wordvec.\n",
    "    \n",
    "    :param noun: the noun to find some synonyms\n",
    "    :param words_filter: a list, if not None, return only words contained in this list\n",
    "\n",
    "    :type noun: str\n",
    "    :type words_filter: list(str)\n",
    "\n",
    "    :return: a list of synonyms \n",
    "    :rtype: list(str)\n",
    "    \"\"\"\n",
    "    try:\n",
    "        w = []\n",
    "        for sn in wn.synsets(noun): \n",
    "            #TODO: check if the synset is a nouns synset and not verbs \n",
    "            #DONE: si on passe les mots qui sont des nomns seulemnt dans words_filter\n",
    "            w.extend(sn.lemma_names())\n",
    "    except:\n",
    "        w = []\n",
    "    w = list(set(w))\n",
    "    return list(filter(lambda s: s in words_filter, w)) if words_filter else w\n",
    "\n",
    "\n",
    "\n",
    "def similar_word2vec_words(word_vectors, noun, words_filter=None, n=10):\n",
    "    \"\"\"Return a list of the `n` most similar words from word2vec.\n",
    "    \n",
    "    :param word_vectors: the gensim word2vec model\n",
    "    :param noun: the noun to find some similar words\n",
    "    :param words_filter: a list, if not None, return only words contained in this list\n",
    "    :param n: only return this number of words (max)\n",
    "\n",
    "    :type word_vectors: gensim.models.keyedvectors.Word2VecKeyedVector\n",
    "    :type noun: str\n",
    "    :type words_filter: list(str)\n",
    "    :type n: int\n",
    "    \n",
    "    :return: a list of similar meaning words\n",
    "    :rtype: list(str)\n",
    "    \"\"\"\n",
    "    tmp = list(list(zip(*word_vectors.similar_by_word(noun, n)))[0])\n",
    "    if not words_filter:\n",
    "        return tmp\n",
    "    return list(filter(lambda s: s in words_filter, tmp))\n",
    "\n",
    "def get_positive_and_negatives_synonyms_pairs(word_vectors, noun, words_filter=None, n=20):\n",
    "    \"\"\"Return 2 lists containing the synonyms int the first, \n",
    "    and similiars words in the second.\n",
    "    \n",
    "    :param word_vectors: the gensim word2vec model\n",
    "    :param noun: the noun to find some similar words\n",
    "    :param words_filter: a list, if not None, return only words contained in this list\n",
    "    :param n: only return this number of words (max)\n",
    "    \n",
    "    :type word_vectors: gensim.models.keyedvectors.Word2VecKeyedVector\n",
    "    :type noun: str\n",
    "    :type words_filter: list(str)\n",
    "    :type n: int\n",
    "    \n",
    "    :return: a tuple containg 2 lists: ([synonyms], [similars])\n",
    "    :rtype: tuple(list(str), list(str))\n",
    "    \"\"\"\n",
    "    synonyms = get_wornet_synonyms(noun, words_filter=words_filter)\n",
    "    similars = similar_word2vec_words(word_vectors, noun, words_filter=words_filter)\n",
    "    not_synonyms = list(filter(lambda s: not s in synonyms, similars))\n",
    "    return synonyms, not_synonyms\n",
    "\n",
    "#list all word2vec nouns exploitables\n",
    "def is_exploitable(s):\n",
    "    \"\"\"not accept urls, names, patterns and weird stuffs... \n",
    "    AND is in wordnet database !!\"\"\"\n",
    "    if s != s.lower():\n",
    "        return False\n",
    "    for c in '._+#/@':\n",
    "        if c in s:\n",
    "            return False\n",
    "    #simple heuristic: remove all words ending with 's' to get only singular nouns\n",
    "    if s[-1] == 's':\n",
    "        return False\n",
    "    if s.isalpha():\n",
    "        return wn.synsets(s) != [] #check if is in wordnnet databse\n"
   ]
  },
  {
   "cell_type": "code",
   "execution_count": 3,
   "metadata": {},
   "outputs": [],
   "source": [
    "try:\n",
    "    positives = np.load(\"positives.npy\")\n",
    "    negatives = np.load(\"negatives.npy\")\n",
    "except:\n",
    "    print(\"* load word2vec pretrained from google\")\n",
    "    word_vectors = KeyedVectors.load_word2vec_format(\"GoogleNews-vectors-negative300.bin\", binary=True)\n",
    "\n",
    "    print(\"* load nouns\")\n",
    "\n",
    "    print(\" - list all wordnet nouns\")\n",
    "    wordnet_nouns = {x.name().split('.', 1)[0] for x in wn.all_synsets('n')}\n",
    "\n",
    "    print(\" - build a list of exploitable words\")\n",
    "    words = list(filter(is_exploitable, word_vectors.index2word))\n",
    "    words = list(filter(lambda s: s in wordnet_nouns, words))\n",
    "\n",
    "    #example\n",
    "    synonyms, not_synonyms = get_positive_and_negatives_synonyms_pairs(word_vectors, \"dog\", words)\n",
    "\n",
    "    print(\"* build a dataset of synonyms / not synonyms\")\n",
    "    positives = []\n",
    "    negatives = []\n",
    "\n",
    "    allready_seen_words = [] #allow us to remove some simple duplicates\n",
    "\n",
    "    shuffle(words)\n",
    "\n",
    "    nb_max_words = len(words)\n",
    "\n",
    "    print(\" - build pairs\")\n",
    "    for word in tqdm(words[:nb_max_words]):\n",
    "        if word in allready_seen_words:\n",
    "            continue\n",
    "        allready_seen_words.append(word)\n",
    "        pos, neg = get_positive_and_negatives_synonyms_pairs(word_vectors, word, words)\n",
    "        for p in pos:\n",
    "            positives.append((word, p))\n",
    "        for n in neg:\n",
    "            negatives.append((word, n))\n",
    "\n",
    "    np.save(\"positives\", np.array(positives))\n",
    "    np.save(\"negatives\", np.array(negatives))\n",
    "\n",
    "positives = list(positives)\n",
    "negatives = list(negatives)\n",
    "\n",
    "shuffle(positives)\n",
    "shuffle(negatives)\n",
    "\n",
    "positives = np.array(positives)\n",
    "negatives = np.array(negatives)"
   ]
  },
  {
   "cell_type": "code",
   "execution_count": 4,
   "metadata": {},
   "outputs": [
    {
     "data": {
      "text/plain": [
       "(array([['depository', 'deposit'],\n",
       "        ['first', 'beginning'],\n",
       "        ['dispersion', 'scattering'],\n",
       "        ...,\n",
       "        ['eddy', 'purl'],\n",
       "        ['patch', 'while'],\n",
       "        ['running', 'draw']], dtype='<U31'), array([['bolete', 'chanterelle'],\n",
       "        ['aura', 'cachet'],\n",
       "        ['griffon', 'borzoi'],\n",
       "        ...,\n",
       "        ['place', 'finish'],\n",
       "        ['adelaide', 'sydney'],\n",
       "        ['transcendence', 'profundity']], dtype='<U29'))"
      ]
     },
     "execution_count": 4,
     "metadata": {},
     "output_type": "execute_result"
    }
   ],
   "source": [
    "positives, negatives"
   ]
  },
  {
   "cell_type": "code",
   "execution_count": 5,
   "metadata": {},
   "outputs": [],
   "source": [
    "try:\n",
    "    positive_embedings = np.load(\"positive_embedings.npy\")\n",
    "    negative_embedings = np.load(\"negative_embedings.npy\")\n",
    "except:\n",
    "    print(\" - compute embedings\")\n",
    "    positive_embedings = np.array(list(map(\n",
    "        lambda c: [word_vectors.word_vec(c[0]), word_vectors.word_vec(c[1])], \n",
    "        positives\n",
    "    )))\n",
    "\n",
    "    negative_embedings = np.array(list(map(\n",
    "        lambda c: [word_vectors.word_vec(c[0]), word_vectors.word_vec(c[1])], \n",
    "        negatives\n",
    "    )))\n",
    "    \n",
    "    np.save(\"positive_embedings\", positive_embedings)\n",
    "    np.save(\"negative_embedings\", negative_embedings)\n",
    "\n",
    "positive_embedings = list(positive_embedings)\n",
    "negative_embedings = list(negative_embedings)\n",
    "\n",
    "shuffle(positive_embedings)\n",
    "shuffle(negative_embedings)\n",
    "\n",
    "positive_embedings = np.array(positive_embedings)\n",
    "negative_embedings = np.array(negative_embedings)"
   ]
  },
  {
   "cell_type": "code",
   "execution_count": 6,
   "metadata": {},
   "outputs": [],
   "source": [
    "#keep the same number of positive vs negatives\n",
    "nb_max_rows = min(len(positives), len(negatives))\n",
    "\n",
    "positive_train = positive_embedings[:int(nb_max_rows * .8)]\n",
    "positive_test  = positive_embedings[int(nb_max_rows * .8):nb_max_rows]\n",
    "\n",
    "negative_train = negative_embedings[:int(nb_max_rows * .8)]\n",
    "negative_test  = negative_embedings[int(nb_max_rows * .8):nb_max_rows]"
   ]
  },
  {
   "cell_type": "code",
   "execution_count": 7,
   "metadata": {},
   "outputs": [
    {
     "name": "stdout",
     "output_type": "stream",
     "text": [
      " - split dataset in training/test sets\n"
     ]
    }
   ],
   "source": [
    "print(\" - split dataset in training/test sets\")\n",
    "x_train = np.array(list(positive_train) + list(negative_train))\n",
    "y_train = np.array([0] * len(positive_train) + [1] * len(negative_train)) #0 means synonym\n",
    "\n",
    "x_test = np.array(list(positive_test) + list(negative_test))\n",
    "y_test = np.array([0] * len(positive_test) + [1] * len(negative_test))"
   ]
  },
  {
   "cell_type": "code",
   "execution_count": 8,
   "metadata": {},
   "outputs": [
    {
     "name": "stdout",
     "output_type": "stream",
     "text": [
      " - augment the dataset by adding the symetry\n"
     ]
    }
   ],
   "source": [
    "print(\" - augment the dataset by adding the symetry\")\n",
    "#adding a symetry to the dataset let us to augment data for free \n",
    "#and remove some noise (the anchor words is not allways on the same side...)\n",
    "build_symetry = lambda x_set : np.array([x_set[:, 0, :], x_set[:, 1, :]]).swapaxes(0, 1)\n",
    "\n",
    "assert (build_symetry(build_symetry(x_train)) == x_train).mean() == 1. #check the axis stuff\n",
    "\n",
    "x_train = np.array(list(x_train) + list(build_symetry(x_train)))\n",
    "x_test  = np.array(list(x_test)  + list(build_symetry(x_test)))\n",
    "\n",
    "y_train = np.array(list(y_train) + list(y_train))\n",
    "y_test  = np.array(list(y_test)  + list(y_test))"
   ]
  },
  {
   "cell_type": "code",
   "execution_count": 9,
   "metadata": {},
   "outputs": [
    {
     "name": "stdout",
     "output_type": "stream",
     "text": [
      " - blip bloup\n"
     ]
    }
   ],
   "source": [
    "print(\" - blip bloup\")\n",
    "\"\"\"\n",
    "#we need to concat the 2 embedings into a same vector to pass it to the classifier\n",
    "x_train = np.array(list(map(lambda c: list(c[0]) + list(c[1]), x_train)))\n",
    "x_test  = np.array(list(map(lambda c: list(c[0]) + list(c[1]), x_test)))\n",
    "\"\"\"\n",
    "#substract w1 - w2 to get a difference of words to find if there is a dimension which encode synonymy\n",
    "x_train = x_train[:, 0, :] - x_train[:, 1, :]\n",
    "x_test  = x_test[:, 0, :]  - x_test[:, 1, :]\n"
   ]
  },
  {
   "cell_type": "code",
   "execution_count": 10,
   "metadata": {},
   "outputs": [
    {
     "name": "stdout",
     "output_type": "stream",
     "text": [
      " - shuffle data\n"
     ]
    }
   ],
   "source": [
    "print(\" - shuffle data\")\n",
    "data_train = list(zip(x_train, y_train))\n",
    "data_test  = list(zip(x_test,  y_test))\n",
    "\n",
    "shuffle(data_train)\n",
    "shuffle(data_test)\n",
    "\n",
    "x_train, y_train = list(zip(*data_train))\n",
    "x_test,  y_test  = list(zip(*data_test))\n",
    "\n",
    "x_train = np.array(x_train)\n",
    "y_train = np.array(y_train)\n",
    "x_test  = np.array(x_test)\n",
    "y_test  = np.array(y_test)"
   ]
  },
  {
   "cell_type": "markdown",
   "metadata": {},
   "source": [
    "## Train models and look what they learnt"
   ]
  },
  {
   "cell_type": "code",
   "execution_count": 27,
   "metadata": {},
   "outputs": [
    {
     "name": "stdout",
     "output_type": "stream",
     "text": [
      "linear model\n",
      "synonyms calssification accyracy :  66.63412252867951  %\n",
      "[150 288 126 121 198 233 298 199  87 149  74 170 178  61  63 290 226 208\n",
      " 254  55  59 118 277  85  73  94 231  51 217 289   6 209  93 195 139 237\n",
      " 299 272 251 253 162 146 164 265 186  17 236 104 161  39 292 131 184 166\n",
      " 257 174 163 180 225 262 282 287 229 105 263 190  45 245 286 102 250 215\n",
      "  72 297 123  77 165 256  25 247 293 241 107  86  40 295 141  18 151 144\n",
      " 147 157 270 169  32  12 188 284  27 280 194 268 266 206  35  84 193  68\n",
      " 275  50 274  66  19 128 200 176 203  98 127 179  10 148 285 153 112  23\n",
      "  76 108 235 103 173  92  75   3 191 106 260 197  79   8 213  97  56 212\n",
      " 116 119 243  96 192 291 132 221 177 185 246 204 159  43 130 120 228   7\n",
      " 223 234  33 210 264 281 283  20   5 216 227 122  14 171 101   1 255  60\n",
      " 111  80 136  34  15  78  29 220 219 129  89 109 156 100   9  83 239  26\n",
      " 152 172  99 181  88 134  52 124  22 214  49 269  53 230 175 113 135  62\n",
      " 276 201 248 207 145 137  67 259  65 110  24  46 187  71 114 133 218 240\n",
      " 202 183  31   2 279 249 296 267 232 167  82  42  64  57  47  21  90 182\n",
      " 224 125 252 258 294  91  16  58 205 138 261 222 211  13  11  95  81 242\n",
      " 238   4 117 115 271 189 196 140  54 168 160  48 158  69  44  70  41 155\n",
      " 154  38  37  36 278 244 143 142  30  28 273   0]\n"
     ]
    },
    {
     "data": {
      "image/png": "[encoded data removed]",
      "text/plain": [
       "<matplotlib.figure.Figure at 0x10d627470>"
      ]
     },
     "metadata": {},
     "output_type": "display_data"
    }
   ],
   "source": [
    "print(\"linear model\")\n",
    "clf = LogisticRegression(penalty='l1', C=0.05)\n",
    "clf.fit(x_train, y_train)\n",
    "\n",
    "acc = (clf.predict(x_test) == y_test).mean()\n",
    "print(\"synonyms calssification accyracy : \", acc * 100, \" %\")\n",
    "\n",
    "coefs = clf.coef_[0]\n",
    "\n",
    "plt.title(\"Importance d'une Dimension pour Determiner la Synonymie\")\n",
    "plt.plot(abs(coefs))\n",
    "plt.plot(coefs)\n",
    "\n",
    "print(abs(coefs).argsort()[::-1])\n",
    "\n",
    "#set a threshold\n",
    "t = abs(coefs)\n",
    "t = t.mean() + t.std() * 2\n",
    "plt.plot([t] * len(coefs))\n",
    "\n",
    "plt.show()"
   ]
  },
  {
   "cell_type": "code",
   "execution_count": 45,
   "metadata": {},
   "outputs": [
    {
     "name": "stdout",
     "output_type": "stream",
     "text": [
      "synonyms calssification accyracy :  73.34635098852819  %\n"
     ]
    }
   ],
   "source": [
    "dt_clf = DecisionTreeClassifier(max_depth=3)\n",
    "dt_clf.fit(x_train, y_train)\n",
    "\n",
    "acc = (dt_clf.predict(x_test) == y_test).mean()\n",
    "print(\"synonyms calssification accyracy : \", acc * 100, \" %\")"
   ]
  },
  {
   "cell_type": "code",
   "execution_count": 46,
   "metadata": {},
   "outputs": [
    {
     "name": "stdout",
     "output_type": "stream",
     "text": [
      "if ( f126 <= 0.00018310546875 ) {\n",
      "    if ( f126 <= -7.62939453125e-05 ) {\n",
      "        if ( f163 <= 0.2342681884765625 ) {\n",
      "            return [[15232. 28336.]]\n",
      "        } else {\n",
      "            return [[3242. 2430.]]\n",
      "        }\n",
      "    } else {\n",
      "        if ( f130 <= -0.015625 ) {\n",
      "            return [[24. 70.]]\n",
      "        } else {\n",
      "            return [[29322.    40.]]\n",
      "        }\n",
      "    }\n",
      "} else {\n",
      "    if ( f61 <= 0.283050537109375 ) {\n",
      "        if ( f138 <= -0.24934959411621094 ) {\n",
      "            return [[2260. 2094.]]\n",
      "        } else {\n",
      "            return [[13344. 31038.]]\n",
      "        }\n",
      "    } else {\n",
      "        if ( f198 <= 0.2132568359375 ) {\n",
      "            return [[1644. 1390.]]\n",
      "        } else {\n",
      "            return [[484. 154.]]\n",
      "        }\n",
      "    }\n",
      "}\n"
     ]
    }
   ],
   "source": [
    "def print_decision_tree(tree, feature_names=None, offset_unit='    '):\n",
    "    '''Plots textual representation of rules of a decision tree\n",
    "    tree: scikit-learn representation of tree\n",
    "    feature_names: list of feature names. They are set to f1,f2,f3,... if not specified\n",
    "    offset_unit: a string of offset of the conditional block'''\n",
    "\n",
    "    left      = tree.tree_.children_left\n",
    "    right     = tree.tree_.children_right\n",
    "    threshold = tree.tree_.threshold\n",
    "    value = tree.tree_.value\n",
    "    if feature_names is None:\n",
    "        features  = ['f%d'%i for i in tree.tree_.feature]\n",
    "    else:\n",
    "        features  = [feature_names[i] for i in tree.tree_.feature]        \n",
    "\n",
    "    def recurse(left, right, threshold, features, node, depth=0):\n",
    "            offset = offset_unit*depth\n",
    "            if (threshold[node] != -2):\n",
    "                    print(offset+\"if ( \" + features[node] + \" <= \" + str(threshold[node]) + \" ) {\")\n",
    "                    if left[node] != -1:\n",
    "                            recurse (left, right, threshold, features,left[node],depth+1)\n",
    "                    print(offset+\"} else {\")\n",
    "                    if right[node] != -1:\n",
    "                            recurse (left, right, threshold, features,right[node],depth+1)\n",
    "                    print(offset+\"}\")\n",
    "            else:\n",
    "                    print(offset+\"return \" + str(value[node]))\n",
    "\n",
    "    recurse(left, right, threshold, features, 0,0)\n",
    "\n",
    "print_decision_tree(dt_clf)"
   ]
  },
  {
   "cell_type": "code",
   "execution_count": 50,
   "metadata": {},
   "outputs": [
    {
     "name": "stdout",
     "output_type": "stream",
     "text": [
      "feature\timportance\n",
      "126\t0.9267192131585212\n",
      "163\t0.024399939878975773\n",
      "61\t0.02266466067621907\n",
      "138\t0.018663172689731115\n",
      "130\t0.005108841868688651\n",
      "198\t0.0024441717278641893\n"
     ]
    },
    {
     "name": "stderr",
     "output_type": "stream",
     "text": [
      "/usr/local/lib/python3.6/site-packages/ipykernel_launcher.py:10: RuntimeWarning: divide by zero encountered in log\n",
      "  # Remove the CWD from sys.path while we load stuff.\n"
     ]
    },
    {
     "data": {
      "image/png": "[encoded data removed]",
      "text/plain": [
       "<matplotlib.figure.Figure at 0x10da47be0>"
      ]
     },
     "metadata": {},
     "output_type": "display_data"
    }
   ],
   "source": [
    "feature_importances = dt_clf.feature_importances_.argsort()[::-1]\n",
    "print(\"feature\\timportance\")\n",
    "for fi in feature_importances:\n",
    "    t = dt_clf.feature_importances_[fi]\n",
    "    if  t > 0:\n",
    "        print(str(fi) + \"\\t\" + str(t))\n",
    "    else:\n",
    "        break\n",
    "\n",
    "plt.plot(np.log(sorted(dt_clf.feature_importances_)[::-1]))\n",
    "plt.show()"
   ]
  },
  {
   "cell_type": "code",
   "execution_count": null,
   "metadata": {},
   "outputs": [],
   "source": []
  }
 ],
 "metadata": {
  "kernelspec": {
   "display_name": "Python 3",
   "language": "python",
   "name": "python3"
  },
  "language_info": {
   "codemirror_mode": {
    "name": "ipython",
    "version": 3
   },
   "file_extension": ".py",
   "mimetype": "text/x-python",
   "name": "python",
   "nbconvert_exporter": "python",
   "pygments_lexer": "ipython3",
   "version": "3.6.2"
  }
 },
 "nbformat": 4,
 "nbformat_minor": 2
}

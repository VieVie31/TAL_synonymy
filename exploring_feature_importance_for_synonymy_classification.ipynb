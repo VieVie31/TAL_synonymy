{
 "cells": [
  {
   "cell_type": "markdown",
   "metadata": {},
   "source": [
    "# Are some features responsibles for encoding synonymy ?"
   ]
  },
  {
   "cell_type": "code",
   "execution_count": 73,
   "metadata": {},
   "outputs": [
    {
     "name": "stdout",
     "output_type": "stream",
     "text": [
      "[nltk_data] Downloading package wordnet to /Users/olivier/nltk_data...\n",
      "[nltk_data]   Package wordnet is already up-to-date!\n"
     ]
    },
    {
     "data": {
      "text/plain": [
       "True"
      ]
     },
     "execution_count": 73,
     "metadata": {},
     "output_type": "execute_result"
    }
   ],
   "source": [
    "import sklearn\n",
    "\n",
    "from sklearn.svm import LinearSVC\n",
    "from sklearn.tree import DecisionTreeClassifier\n",
    "from sklearn.linear_model import LogisticRegression\n",
    "\n",
    "import graphviz\n",
    "import numpy as np\n",
    "import matplotlib.pyplot as plt\n",
    "\n",
    "from tqdm import tqdm, trange\n",
    "from random import shuffle\n",
    "\n",
    "import gensim\n",
    "\n",
    "from gensim.models import KeyedVectors\n",
    "\n",
    "import nltk\n",
    "\n",
    "from nltk.corpus import wordnet as wn\n",
    "\n",
    "nltk.download('wordnet')"
   ]
  },
  {
   "cell_type": "code",
   "execution_count": 2,
   "metadata": {},
   "outputs": [],
   "source": [
    "#get infos in wordnet\n",
    "def get_wornet_synonyms_hypernyms(noun, words_filter=None):\n",
    "    \"\"\"Return le list of hypernyms and hyponyms of a word from wordvec.\n",
    "    \n",
    "    :param noun: the noun to find some synonyms\n",
    "    :param words_filter: a list, if not None, return only words contained in this list\n",
    "\n",
    "    :type noun: str\n",
    "    :type words_filter: list(str)\n",
    "\n",
    "    :return: a list of synonyms \n",
    "    :rtype: list(str)\n",
    "    \"\"\"\n",
    "    try:\n",
    "        hypernyms = wn.synsets(noun)[0].hypernyms()[0].lemma_names() #NB: on ne prend que le premier\n",
    "    except:\n",
    "        hypernyms = []\n",
    "    try:\n",
    "        hyponyms = wn.synsets(noun)[0].hyponyms()[0].lemma_names() #NB: on ne prend que le premier\n",
    "    except:\n",
    "        hyponyms = []\n",
    "    if words_filter:\n",
    "        out = []\n",
    "        for w in hypernyms + hyponyms:\n",
    "            if w in words_filter:\n",
    "                out.append(w)\n",
    "        return out\n",
    "    return hypernyms + hyponyms\n",
    "\n",
    "def get_wornet_synonyms(noun, words_filter=None):\n",
    "    \"\"\"Return le list of synonyms of a word from wordvec.\n",
    "    \n",
    "    :param noun: the noun to find some synonyms\n",
    "    :param words_filter: a list, if not None, return only words contained in this list\n",
    "\n",
    "    :type noun: str\n",
    "    :type words_filter: list(str)\n",
    "\n",
    "    :return: a list of synonyms \n",
    "    :rtype: list(str)\n",
    "    \"\"\"\n",
    "    try:\n",
    "        w = []\n",
    "        for sn in wn.synsets(noun): \n",
    "            #TODO: check if the synset is a nouns synset and not verbs \n",
    "            #DONE: si on passe les mots qui sont des nomns seulemnt dans words_filter\n",
    "            w.extend(sn.lemma_names())\n",
    "    except:\n",
    "        w = []\n",
    "    w = list(set(w))\n",
    "    return list(filter(lambda s: s in words_filter, w)) if words_filter else w\n",
    "\n",
    "\n",
    "\n",
    "def similar_word2vec_words(word_vectors, noun, words_filter=None, n=10):\n",
    "    \"\"\"Return a list of the `n` most similar words from word2vec.\n",
    "    \n",
    "    :param word_vectors: the gensim word2vec model\n",
    "    :param noun: the noun to find some similar words\n",
    "    :param words_filter: a list, if not None, return only words contained in this list\n",
    "    :param n: only return this number of words (max)\n",
    "\n",
    "    :type word_vectors: gensim.models.keyedvectors.Word2VecKeyedVector\n",
    "    :type noun: str\n",
    "    :type words_filter: list(str)\n",
    "    :type n: int\n",
    "    \n",
    "    :return: a list of similar meaning words\n",
    "    :rtype: list(str)\n",
    "    \"\"\"\n",
    "    tmp = list(list(zip(*word_vectors.similar_by_word(noun, n)))[0])\n",
    "    if not words_filter:\n",
    "        return tmp\n",
    "    return list(filter(lambda s: s in words_filter, tmp))\n",
    "\n",
    "def get_positive_and_negatives_synonyms_pairs(word_vectors, noun, words_filter=None, n=20):\n",
    "    \"\"\"Return 2 lists containing the synonyms int the first, \n",
    "    and similiars words in the second.\n",
    "    \n",
    "    :param word_vectors: the gensim word2vec model\n",
    "    :param noun: the noun to find some similar words\n",
    "    :param words_filter: a list, if not None, return only words contained in this list\n",
    "    :param n: only return this number of words (max)\n",
    "    \n",
    "    :type word_vectors: gensim.models.keyedvectors.Word2VecKeyedVector\n",
    "    :type noun: str\n",
    "    :type words_filter: list(str)\n",
    "    :type n: int\n",
    "    \n",
    "    :return: a tuple containg 2 lists: ([synonyms], [similars])\n",
    "    :rtype: tuple(list(str), list(str))\n",
    "    \"\"\"\n",
    "    synonyms = get_wornet_synonyms(noun, words_filter=words_filter)\n",
    "    similars = similar_word2vec_words(word_vectors, noun, words_filter=words_filter)\n",
    "    not_synonyms = list(filter(lambda s: not s in synonyms, similars))\n",
    "    return synonyms, not_synonyms\n",
    "\n",
    "#list all word2vec nouns exploitables\n",
    "def is_exploitable(s):\n",
    "    \"\"\"not accept urls, names, patterns and weird stuffs... \n",
    "    AND is in wordnet database !!\"\"\"\n",
    "    if s != s.lower():\n",
    "        return False\n",
    "    for c in '._+#/@':\n",
    "        if c in s:\n",
    "            return False\n",
    "    #simple heuristic: remove all words ending with 's' to get only singular nouns\n",
    "    if s[-1] == 's':\n",
    "        return False\n",
    "    if s.isalpha():\n",
    "        return wn.synsets(s) != [] #check if is in wordnnet databse\n"
   ]
  },
  {
   "cell_type": "code",
   "execution_count": 3,
   "metadata": {},
   "outputs": [],
   "source": [
    "try:\n",
    "    positives = np.load(\"positives.npy\")\n",
    "    negatives = np.load(\"negatives.npy\")\n",
    "except:\n",
    "    print(\"* load word2vec pretrained from google\")\n",
    "    word_vectors = KeyedVectors.load_word2vec_format(\"GoogleNews-vectors-negative300.bin\", binary=True)\n",
    "\n",
    "    print(\"* load nouns\")\n",
    "\n",
    "    print(\" - list all wordnet nouns\")\n",
    "    wordnet_nouns = {x.name().split('.', 1)[0] for x in wn.all_synsets('n')}\n",
    "\n",
    "    print(\" - build a list of exploitable words\")\n",
    "    words = list(filter(is_exploitable, word_vectors.index2word))\n",
    "    words = list(filter(lambda s: s in wordnet_nouns, words))\n",
    "\n",
    "    #example\n",
    "    synonyms, not_synonyms = get_positive_and_negatives_synonyms_pairs(word_vectors, \"dog\", words)\n",
    "\n",
    "    print(\"* build a dataset of synonyms / not synonyms\")\n",
    "    positives = []\n",
    "    negatives = []\n",
    "\n",
    "    allready_seen_words = [] #allow us to remove some simple duplicates\n",
    "\n",
    "    shuffle(words)\n",
    "\n",
    "    nb_max_words = len(words)\n",
    "\n",
    "    print(\" - build pairs\")\n",
    "    for word in tqdm(words[:nb_max_words]):\n",
    "        if word in allready_seen_words:\n",
    "            continue\n",
    "        allready_seen_words.append(word)\n",
    "        pos, neg = get_positive_and_negatives_synonyms_pairs(word_vectors, word, words)\n",
    "        for p in pos:\n",
    "            positives.append((word, p))\n",
    "        for n in neg:\n",
    "            negatives.append((word, n))\n",
    "\n",
    "    np.save(\"positives\", np.array(positives))\n",
    "    np.save(\"negatives\", np.array(negatives))\n",
    "\n",
    "positives = list(positives)\n",
    "negatives = list(negatives)\n",
    "\n",
    "shuffle(positives)\n",
    "shuffle(negatives)\n",
    "\n",
    "positives = np.array(positives)\n",
    "negatives = np.array(negatives)"
   ]
  },
  {
   "cell_type": "code",
   "execution_count": 4,
   "metadata": {},
   "outputs": [
    {
     "data": {
      "text/plain": [
       "(array([['depository', 'deposit'],\n",
       "        ['first', 'beginning'],\n",
       "        ['dispersion', 'scattering'],\n",
       "        ...,\n",
       "        ['eddy', 'purl'],\n",
       "        ['patch', 'while'],\n",
       "        ['running', 'draw']], dtype='<U31'), array([['bolete', 'chanterelle'],\n",
       "        ['aura', 'cachet'],\n",
       "        ['griffon', 'borzoi'],\n",
       "        ...,\n",
       "        ['place', 'finish'],\n",
       "        ['adelaide', 'sydney'],\n",
       "        ['transcendence', 'profundity']], dtype='<U29'))"
      ]
     },
     "execution_count": 4,
     "metadata": {},
     "output_type": "execute_result"
    }
   ],
   "source": [
    "positives, negatives"
   ]
  },
  {
   "cell_type": "code",
   "execution_count": 5,
   "metadata": {},
   "outputs": [],
   "source": [
    "try:\n",
    "    positive_embedings = np.load(\"positive_embedings.npy\")\n",
    "    negative_embedings = np.load(\"negative_embedings.npy\")\n",
    "except:\n",
    "    print(\" - compute embedings\")\n",
    "    positive_embedings = np.array(list(map(\n",
    "        lambda c: [word_vectors.word_vec(c[0]), word_vectors.word_vec(c[1])], \n",
    "        positives\n",
    "    )))\n",
    "\n",
    "    negative_embedings = np.array(list(map(\n",
    "        lambda c: [word_vectors.word_vec(c[0]), word_vectors.word_vec(c[1])], \n",
    "        negatives\n",
    "    )))\n",
    "    \n",
    "    np.save(\"positive_embedings\", positive_embedings)\n",
    "    np.save(\"negative_embedings\", negative_embedings)\n",
    "\n",
    "positive_embedings = list(positive_embedings)\n",
    "negative_embedings = list(negative_embedings)\n",
    "\n",
    "shuffle(positive_embedings)\n",
    "shuffle(negative_embedings)\n",
    "\n",
    "positive_embedings = np.array(positive_embedings)\n",
    "negative_embedings = np.array(negative_embedings)"
   ]
  },
  {
   "cell_type": "code",
   "execution_count": 6,
   "metadata": {},
   "outputs": [],
   "source": [
    "#keep the same number of positive vs negatives\n",
    "nb_max_rows = min(len(positives), len(negatives))\n",
    "\n",
    "positive_train = positive_embedings[:int(nb_max_rows * .8)]\n",
    "positive_test  = positive_embedings[int(nb_max_rows * .8):nb_max_rows]\n",
    "\n",
    "negative_train = negative_embedings[:int(nb_max_rows * .8)]\n",
    "negative_test  = negative_embedings[int(nb_max_rows * .8):nb_max_rows]"
   ]
  },
  {
   "cell_type": "code",
   "execution_count": 51,
   "metadata": {},
   "outputs": [
    {
     "name": "stdout",
     "output_type": "stream",
     "text": [
      " - split dataset in training/test sets\n"
     ]
    }
   ],
   "source": [
    "print(\" - split dataset in training/test sets\")\n",
    "x_train = np.array(list(positive_train) + list(negative_train))\n",
    "y_train = np.array([0] * len(positive_train) + [1] * len(negative_train)) #0 means synonym\n",
    "\n",
    "x_test = np.array(list(positive_test) + list(negative_test))\n",
    "y_test = np.array([0] * len(positive_test) + [1] * len(negative_test))"
   ]
  },
  {
   "cell_type": "code",
   "execution_count": 52,
   "metadata": {},
   "outputs": [
    {
     "name": "stdout",
     "output_type": "stream",
     "text": [
      " - augment the dataset by adding the symetry\n"
     ]
    }
   ],
   "source": [
    "print(\" - augment the dataset by adding the symetry\")\n",
    "#adding a symetry to the dataset let us to augment data for free \n",
    "#and remove some noise (the anchor words is not allways on the same side...)\n",
    "build_symetry = lambda x_set : np.array([x_set[:, 0, :], x_set[:, 1, :]]).swapaxes(0, 1)\n",
    "\n",
    "assert (build_symetry(build_symetry(x_train)) == x_train).mean() == 1. #check the axis stuff\n",
    "\n",
    "x_train = np.array(list(x_train) + list(build_symetry(x_train)))\n",
    "x_test  = np.array(list(x_test)  + list(build_symetry(x_test)))\n",
    "\n",
    "y_train = np.array(list(y_train) + list(y_train))\n",
    "y_test  = np.array(list(y_test)  + list(y_test))"
   ]
  },
  {
   "cell_type": "code",
   "execution_count": 82,
   "metadata": {},
   "outputs": [
    {
     "name": "stderr",
     "output_type": "stream",
     "text": [
      "  4%|▍         | 5186/131104 [00:00<00:04, 26370.96it/s]"
     ]
    },
    {
     "name": "stdout",
     "output_type": "stream",
     "text": [
      " - cosine 'difference'\n"
     ]
    },
    {
     "name": "stderr",
     "output_type": "stream",
     "text": [
      "100%|██████████| 131104/131104 [00:05<00:00, 25590.34it/s]\n",
      "100%|██████████| 32776/32776 [00:01<00:00, 25545.07it/s]\n"
     ]
    }
   ],
   "source": [
    "\"\"\"print(\" - difference\")\n",
    "#substract w1 - w2 to get a difference of words to find if there is a dimension which encode synonymy\n",
    "x_train = x_train[:, 0, :] - x_train[:, 1, :]\n",
    "x_test  = x_test[:, 0, :]  - x_test[:, 1, :]\n",
    "\"\"\"\n",
    "\n",
    "print(\" - cosine 'difference'\")\n",
    "\n",
    "#build a difference function inspired by the cosine distance\n",
    "def diff(a, b):\n",
    "    c = a * b\n",
    "    norm_a = np.linalg.norm(a)\n",
    "    norm_b = np.linalg.norm(b)\n",
    "    return c / (norm_a * norm_b)\n",
    "\n",
    "L = []\n",
    "for i in trange(x_train.shape[0]):\n",
    "    L.append(diff(x_train[i, 0, :], x_train[i, 1, :]))\n",
    "x_train = np.array(L)\n",
    "\n",
    "L = []\n",
    "for i in trange(x_test.shape[0]):\n",
    "    L.append(diff(x_test[i, 0, :], x_test[i, 1, :]))\n",
    "x_test = np.array(L)"
   ]
  },
  {
   "cell_type": "code",
   "execution_count": 83,
   "metadata": {},
   "outputs": [
    {
     "name": "stdout",
     "output_type": "stream",
     "text": [
      " - shuffle data\n"
     ]
    }
   ],
   "source": [
    "print(\" - shuffle data\")\n",
    "data_train = list(zip(x_train, y_train))\n",
    "data_test  = list(zip(x_test,  y_test))\n",
    "\n",
    "shuffle(data_train)\n",
    "shuffle(data_test)\n",
    "\n",
    "x_train, y_train = list(zip(*data_train))\n",
    "x_test,  y_test  = list(zip(*data_test))\n",
    "\n",
    "x_train = np.array(x_train)\n",
    "y_train = np.array(y_train)\n",
    "x_test  = np.array(x_test)\n",
    "y_test  = np.array(y_test)"
   ]
  },
  {
   "cell_type": "markdown",
   "metadata": {},
   "source": [
    "## Train models and look what they learnt"
   ]
  },
  {
   "cell_type": "code",
   "execution_count": 92,
   "metadata": {},
   "outputs": [],
   "source": [
    "#normalize features\n",
    "mean, std = x_train.mean(0), x_train.std(0)\n",
    "x_train = (x_train - mean) / std\n",
    "x_test  = (x_test  - mean) / std"
   ]
  },
  {
   "cell_type": "code",
   "execution_count": 97,
   "metadata": {},
   "outputs": [
    {
     "name": "stdout",
     "output_type": "stream",
     "text": [
      "linear model\n",
      "synonyms calssification accyracy :  66.76836709787649  %\n",
      "[139 289 150   3 271   1  92  50 251 210 241  26 198  72 298  14  89  86\n",
      " 272 277 279 105 212 152  76 117  65  45   0 218 171 200  62  57  39 167\n",
      " 130 162 169  58 122  78 248 134 259 146  52  95  49 103  99 121 110 267\n",
      " 164 114 247 286 161  36  10  32  81 282 172 109 170 124 296 151 107   5\n",
      "  31 185 142  55  79 155 153 220 194 237  93  66 249 118  73 102 276 123\n",
      " 132 137 148 138 195 236  28 285 125 222  83   9 287 275 230 243 211 136\n",
      "   4  44 184  42 106 133  56 176  30  84 229  77 179  33 203 147 156 255\n",
      " 168 208 192  98 270  22  46 207 214  82 297  90  60  69 115  24  38 204\n",
      " 159 261 116 174  47 181 166 160  37 190 202  41 119  63 264 228 280 100\n",
      "  64   2 183  87 101  97 284  75  88 233 177  29 242  25 235 252 141 149\n",
      "  70  96 219  15 201  13 193 189 265  74 127 213 163 291 239  19 145 257\n",
      " 104 281 158 232  12 186 244 269 221 154 178  53 180 144 157  67 187 288\n",
      " 263 175 256 290 234 223 268 260  34  21  11  71 253 294 246 143 258  48\n",
      " 191  18 250 227  40 129 216 217 240  23 113 238  85 182 196  27 128  43\n",
      " 209 295 278 254 245 112  54 131   7  17 120 206 231 199 273 188 205  20\n",
      " 299 108  59  16 283  91 135 292 226 165  94  35 173 197  51  68 293   6\n",
      " 111  61 274 225 215  80 262 126   8 224 140 266]\n"
     ]
    },
    {
     "data": {
      "image/png": "[encoded data removed]",
      "text/plain": [
       "<matplotlib.figure.Figure at 0x10d5243c8>"
      ]
     },
     "metadata": {},
     "output_type": "display_data"
    }
   ],
   "source": [
    "print(\"linear model\")\n",
    "clf = LogisticRegression(penalty='l1', C=0.05)\n",
    "clf.fit(x_train, y_train)\n",
    "\n",
    "acc = (clf.predict(x_test) == y_test).mean()\n",
    "print(\"synonyms calssification accyracy : \", acc * 100, \" %\")\n",
    "\n",
    "coefs = clf.coef_[0]\n",
    "\n",
    "plt.title(\"Importance d'une Dimension pour Determiner la Synonymie\")\n",
    "plt.plot(abs(coefs))\n",
    "plt.plot(coefs)\n",
    "\n",
    "print(abs(coefs).argsort()[::-1])\n",
    "\n",
    "#set a threshold\n",
    "t = abs(coefs)\n",
    "t = t.mean() + t.std() * 2\n",
    "plt.plot([t] * len(coefs))\n",
    "\n",
    "plt.show()"
   ]
  },
  {
   "cell_type": "markdown",
   "metadata": {},
   "source": [
    "With a simple difference of words embedings (acc: 66.63%) the most important features are :\n",
    "```\n",
    "150 288 126 121 198\n",
    "```\n",
    "With the new difference function (acc: 66.76%) the most important features are :\n",
    "```\n",
    "139 289 150   3 271 \n",
    "```\n",
    "\n",
    "==> ___The 2 methods aggree on the importance of the feature `#150`...___\n"
   ]
  },
  {
   "cell_type": "code",
   "execution_count": 98,
   "metadata": {},
   "outputs": [
    {
     "name": "stdout",
     "output_type": "stream",
     "text": [
      "synonyms calssification accyracy :  64.07127166219185  %\n"
     ]
    }
   ],
   "source": [
    "dt_clf = DecisionTreeClassifier(max_depth=3)\n",
    "dt_clf.fit(x_train, y_train)\n",
    "\n",
    "acc = (dt_clf.predict(x_test) == y_test).mean()\n",
    "print(\"synonyms calssification accyracy : \", acc * 100, \" %\")"
   ]
  },
  {
   "cell_type": "code",
   "execution_count": 99,
   "metadata": {},
   "outputs": [
    {
     "name": "stdout",
     "output_type": "stream",
     "text": [
      "if ( f243 <= -0.5065227746963501 ) {\n",
      "    if ( f200 <= -0.20528116822242737 ) {\n",
      "        if ( f52 <= 0.0011431040475144982 ) {\n",
      "            return [[7546. 5948.]]\n",
      "        } else {\n",
      "            return [[1514. 3914.]]\n",
      "        }\n",
      "    } else {\n",
      "        if ( f50 <= -0.7990960478782654 ) {\n",
      "            return [[658. 536.]]\n",
      "        } else {\n",
      "            return [[2518. 8696.]]\n",
      "        }\n",
      "    }\n",
      "} else {\n",
      "    if ( f1 <= -0.44851624965667725 ) {\n",
      "        if ( f52 <= -0.4518629312515259 ) {\n",
      "            return [[5958. 5620.]]\n",
      "        } else {\n",
      "            return [[ 3962. 10004.]]\n",
      "        }\n",
      "    } else {\n",
      "        if ( f86 <= -0.4249279201030731 ) {\n",
      "            return [[ 5932. 10570.]]\n",
      "        } else {\n",
      "            return [[37464. 20264.]]\n",
      "        }\n",
      "    }\n",
      "}\n"
     ]
    }
   ],
   "source": [
    "def print_decision_tree(tree, feature_names=None, offset_unit='    '):\n",
    "    '''Plots textual representation of rules of a decision tree\n",
    "    tree: scikit-learn representation of tree\n",
    "    feature_names: list of feature names. They are set to f1,f2,f3,... if not specified\n",
    "    offset_unit: a string of offset of the conditional block'''\n",
    "\n",
    "    left      = tree.tree_.children_left\n",
    "    right     = tree.tree_.children_right\n",
    "    threshold = tree.tree_.threshold\n",
    "    value = tree.tree_.value\n",
    "    if feature_names is None:\n",
    "        features  = ['f%d'%i for i in tree.tree_.feature]\n",
    "    else:\n",
    "        features  = [feature_names[i] for i in tree.tree_.feature]        \n",
    "\n",
    "    def recurse(left, right, threshold, features, node, depth=0):\n",
    "            offset = offset_unit*depth\n",
    "            if (threshold[node] != -2):\n",
    "                    print(offset+\"if ( \" + features[node] + \" <= \" + str(threshold[node]) + \" ) {\")\n",
    "                    if left[node] != -1:\n",
    "                            recurse (left, right, threshold, features,left[node],depth+1)\n",
    "                    print(offset+\"} else {\")\n",
    "                    if right[node] != -1:\n",
    "                            recurse (left, right, threshold, features,right[node],depth+1)\n",
    "                    print(offset+\"}\")\n",
    "            else:\n",
    "                    print(offset+\"return \" + str(value[node]))\n",
    "\n",
    "    recurse(left, right, threshold, features, 0,0)\n",
    "\n",
    "print_decision_tree(dt_clf)"
   ]
  },
  {
   "cell_type": "code",
   "execution_count": 100,
   "metadata": {},
   "outputs": [
    {
     "name": "stdout",
     "output_type": "stream",
     "text": [
      "feature\timportance\n",
      "86\t0.3136198697428081\n",
      "1\t0.21344922573890435\n",
      "52\t0.1870814650363096\n",
      "243\t0.14378949802624777\n",
      "200\t0.10850849491003327\n",
      "50\t0.033551446545696924\n"
     ]
    },
    {
     "name": "stderr",
     "output_type": "stream",
     "text": [
      "/usr/local/lib/python3.6/site-packages/ipykernel_launcher.py:10: RuntimeWarning: divide by zero encountered in log\n",
      "  # Remove the CWD from sys.path while we load stuff.\n"
     ]
    },
    {
     "data": {
      "image/png": "[encoded data removed]",
      "text/plain": [
       "<matplotlib.figure.Figure at 0x13217aa20>"
      ]
     },
     "metadata": {},
     "output_type": "display_data"
    }
   ],
   "source": [
    "feature_importances = dt_clf.feature_importances_.argsort()[::-1]\n",
    "print(\"feature\\timportance\")\n",
    "for fi in feature_importances:\n",
    "    t = dt_clf.feature_importances_[fi]\n",
    "    if  t > 0:\n",
    "        print(str(fi) + \"\\t\" + str(t))\n",
    "    else:\n",
    "        break\n",
    "\n",
    "plt.plot(np.log(sorted(dt_clf.feature_importances_)[::-1]))\n",
    "plt.show()"
   ]
  },
  {
   "cell_type": "markdown",
   "metadata": {},
   "source": [
    "The decision tree was __73.34%__ accurate with the simple embeddings difference and now only __64.07%__ accurate... "
   ]
  },
  {
   "cell_type": "code",
   "execution_count": null,
   "metadata": {},
   "outputs": [],
   "source": []
  }
 ],
 "metadata": {
  "kernelspec": {
   "display_name": "Python 3",
   "language": "python",
   "name": "python3"
  },
  "language_info": {
   "codemirror_mode": {
    "name": "ipython",
    "version": 3
   },
   "file_extension": ".py",
   "mimetype": "text/x-python",
   "name": "python",
   "nbconvert_exporter": "python",
   "pygments_lexer": "ipython3",
   "version": "3.6.2"
  }
 },
 "nbformat": 4,
 "nbformat_minor": 2
}

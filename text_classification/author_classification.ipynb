{
 "cells": [
  {
   "cell_type": "markdown",
   "metadata": {},
   "source": [
    "# Author Classification\n",
    "\n",
    "We study the following case: a corpus of sentences belonging respectively to J. Chirac and F. Mitterrand is available (with associated tags). The goal is to build a model that correctly predicts who owns the different sentences.\n",
    "\n",
    "http://www-connex.lip6.fr/~guigue/wikihomepage/uploads/Course/AFDpresidentutf8.zip"
   ]
  },
  {
   "cell_type": "code",
   "execution_count": 1,
   "metadata": {},
   "outputs": [],
   "source": [
    "import random\n",
    "import unicodedata\n",
    "import numpy as np\n",
    "\n",
    "from itertools import groupby\n",
    "\n",
    "import matplotlib.pyplot as plt\n",
    "\n",
    "import xgboost as xgb #not really usefull as it didn't improve anything !!! :(\n",
    "\n",
    "import sklearn\n",
    "\n",
    "from sklearn.metrics import f1_score\n",
    "from sklearn.ensemble import RandomForestClassifier, GradientBoostingClassifier\n",
    "from sklearn.linear_model import LogisticRegression, SGDClassifier\n",
    "from sklearn.svm import SVC, LinearSVC #too slow to be used !!\n",
    "from sklearn.feature_extraction.text import CountVectorizer\n",
    "from sklearn.feature_extraction.text import TfidfTransformer\n",
    "from sklearn.decomposition import MiniBatchSparsePCA, PCA\n",
    "from sklearn.decomposition import LatentDirichletAllocation"
   ]
  },
  {
   "cell_type": "code",
   "execution_count": 2,
   "metadata": {},
   "outputs": [],
   "source": [
    "f = open(\"../corpus.tache1.learn.utf8\", 'r')\n",
    "L = f.readlines()\n",
    "f.close()"
   ]
  },
  {
   "cell_type": "code",
   "execution_count": 3,
   "metadata": {},
   "outputs": [],
   "source": [
    "def strip_accents(s):\n",
    "    return ''.join(c for c in unicodedata.normalize('NFD', s)\n",
    "                  if unicodedata.category(c) != 'Mn').replace('\\n', '')\n",
    "\n",
    "L = list(map(strip_accents, L))"
   ]
  },
  {
   "cell_type": "code",
   "execution_count": 4,
   "metadata": {},
   "outputs": [],
   "source": [
    "def labelize(txt):\n",
    "    i = txt.index('> ')\n",
    "    return txt[:i][-1], txt[i+2:]\n",
    "\n",
    "data = list(map(labelize, L))"
   ]
  },
  {
   "cell_type": "code",
   "execution_count": 5,
   "metadata": {},
   "outputs": [
    {
     "data": {
      "text/plain": [
       "('C',\n",
       " \"Quand je dis chers amis, il ne s'agit pas la d'une formule diplomatique, mais de l'expression de ce que je ressens.\")"
      ]
     },
     "execution_count": 5,
     "metadata": {},
     "output_type": "execute_result"
    }
   ],
   "source": [
    "data[0]"
   ]
  },
  {
   "cell_type": "code",
   "execution_count": 6,
   "metadata": {},
   "outputs": [
    {
     "data": {
      "text/plain": [
       "\"En repondant a votre invitation, en effectuant cette premiere visite d'Etat d'un President francais en Algerie depuis l'independance, j'ai conscience d'ouvrir avec vous un chapitre nouveau de notre histoire commune, le chapitre de la confiance, de l'estime, du respect mutuel, de l'amitie et de la solidarite.\""
      ]
     },
     "execution_count": 6,
     "metadata": {},
     "output_type": "execute_result"
    }
   ],
   "source": [
    "f = open(\"../corpus.tache1.test.utf8\", 'r')\n",
    "L = f.readlines()\n",
    "f.close()\n",
    "L = list(map(strip_accents, L))\n",
    "data_submission = list(map(labelize, L))\n",
    "x_submission = list(zip(*data_submission))[1]\n",
    "#txt_test = ' '.join(x_submission)\n",
    "#txt_test[:100]\n",
    "x_submission[0]"
   ]
  },
  {
   "cell_type": "code",
   "execution_count": 7,
   "metadata": {},
   "outputs": [],
   "source": [
    "C = list(filter(lambda c: c[0] == 'C', data))\n",
    "M = list(filter(lambda c: c[0] == 'M', data))"
   ]
  },
  {
   "cell_type": "code",
   "execution_count": 8,
   "metadata": {},
   "outputs": [],
   "source": [
    "#random.shuffle(C) #not shufflung now ??!!\n",
    "#random.shuffle(M)"
   ]
  },
  {
   "cell_type": "code",
   "execution_count": 9,
   "metadata": {},
   "outputs": [
    {
     "data": {
      "text/plain": [
       "7523"
      ]
     },
     "execution_count": 9,
     "metadata": {},
     "output_type": "execute_result"
    }
   ],
   "source": [
    "min_ln = min(len(M), len(C)) #to rebalance\n",
    "min_ln"
   ]
  },
  {
   "cell_type": "code",
   "execution_count": 10,
   "metadata": {},
   "outputs": [],
   "source": [
    "data_train = C[:int(min_ln * .8)] + M[:int(min_ln * .8)]\n",
    "data_test  = C[int(min_ln * .8):min_ln] + M[int(min_ln * .8):min_ln]"
   ]
  },
  {
   "cell_type": "code",
   "execution_count": 11,
   "metadata": {},
   "outputs": [],
   "source": [
    "random.shuffle(data_train)\n",
    "random.shuffle(data_test)"
   ]
  },
  {
   "cell_type": "markdown",
   "metadata": {},
   "source": [
    "## Base Line : char based"
   ]
  },
  {
   "cell_type": "code",
   "execution_count": 12,
   "metadata": {},
   "outputs": [
    {
     "data": {
      "text/plain": [
       "array([0.06040268, 0.00671141, 0.03355705, 0.03355705, 0.15436242,\n",
       "       0.00671141, 0.00671141, 0.00671141, 0.08053691, 0.        ,\n",
       "       0.        , 0.04697987, 0.00671141, 0.06711409, 0.04026846,\n",
       "       0.02013423, 0.00671141, 0.05369128, 0.11409396, 0.06711409,\n",
       "       0.02013423, 0.02013423, 0.        , 0.        , 0.        ,\n",
       "       0.        , 0.1409396 ])"
      ]
     },
     "execution_count": 12,
     "metadata": {},
     "output_type": "execute_result"
    }
   ],
   "source": [
    "def bag_of_char(txt):\n",
    "    out = np.array([0 for i in range(27)])\n",
    "    for c in txt:\n",
    "        if c == ' ':\n",
    "            out[-1] += 1\n",
    "        else:\n",
    "            v = ord(c.lower()) - 97\n",
    "            if v >= 0 and v <= 26:\n",
    "                out[v] += 1\n",
    "    return out / (out.sum() + 1)\n",
    "\n",
    "bag_of_char(data_train[0][1])"
   ]
  },
  {
   "cell_type": "code",
   "execution_count": 13,
   "metadata": {},
   "outputs": [],
   "source": [
    "x_train = list(map(lambda c: bag_of_char(c[1]), data_train))\n",
    "x_test  = list(map(lambda c: bag_of_char(c[1]), data_test))\n",
    "\n",
    "y_train = list(map(lambda c: int(c[0] == 'C'), data_train))\n",
    "y_test  = list(map(lambda c: int(c[0] == 'C'), data_test))"
   ]
  },
  {
   "cell_type": "markdown",
   "metadata": {},
   "source": [
    "### Test Random Forest"
   ]
  },
  {
   "cell_type": "code",
   "execution_count": 14,
   "metadata": {},
   "outputs": [
    {
     "data": {
      "text/plain": [
       "RandomForestClassifier(bootstrap=True, class_weight=None, criterion='gini',\n",
       "            max_depth=None, max_features='auto', max_leaf_nodes=None,\n",
       "            min_impurity_decrease=0.0, min_impurity_split=None,\n",
       "            min_samples_leaf=1, min_samples_split=2,\n",
       "            min_weight_fraction_leaf=0.0, n_estimators=700, n_jobs=-1,\n",
       "            oob_score=False, random_state=None, verbose=0,\n",
       "            warm_start=False)"
      ]
     },
     "execution_count": 14,
     "metadata": {},
     "output_type": "execute_result"
    }
   ],
   "source": [
    "clf = RandomForestClassifier(n_estimators=700, n_jobs=-1)\n",
    "clf.fit(x_train, y_train)"
   ]
  },
  {
   "cell_type": "code",
   "execution_count": 15,
   "metadata": {},
   "outputs": [
    {
     "data": {
      "text/plain": [
       "(0.6169435215946844, 0.6014517801590045)"
      ]
     },
     "execution_count": 15,
     "metadata": {},
     "output_type": "execute_result"
    }
   ],
   "source": [
    "(clf.predict(x_test) == y_test).mean(), f1_score(y_test, clf.predict(x_test))"
   ]
  },
  {
   "cell_type": "markdown",
   "metadata": {},
   "source": [
    "### Test XGBoost"
   ]
  },
  {
   "cell_type": "code",
   "execution_count": 16,
   "metadata": {},
   "outputs": [],
   "source": [
    "#y_train_xgb = np.array(list(map(lambda y: [1, 0] if y else [0, 1], y_train)))\n",
    "#y_test_xgb  = np.array(list(map(lambda y: [1, 0] if y else [0, 1], y_test)))"
   ]
  },
  {
   "cell_type": "code",
   "execution_count": 17,
   "metadata": {},
   "outputs": [
    {
     "data": {
      "text/plain": [
       "XGBClassifier(base_score=0.5, booster='gbtree', colsample_bylevel=1,\n",
       "       colsample_bytree=1, eval_metric='error', gamma=0, learning_rate=0.1,\n",
       "       max_delta_step=0, max_depth=10, min_child_weight=1, missing=None,\n",
       "       n_estimators=100, n_jobs=1, nthread=None,\n",
       "       objective='binary:logistic', random_state=0, reg_alpha=0,\n",
       "       reg_lambda=1, scale_pos_weight=1, seed=None, silent=True,\n",
       "       subsample=1)"
      ]
     },
     "execution_count": 17,
     "metadata": {},
     "output_type": "execute_result"
    }
   ],
   "source": [
    "clf = xgb.XGBClassifier(\n",
    "    max_depth=10,\n",
    "    n_estimators=100,\n",
    "    objective='binary:logistic',\n",
    "    eval_metric='error',\n",
    "    #learning_rate=0.001\n",
    ")\n",
    "clf.fit(np.array(x_train), y_train)"
   ]
  },
  {
   "cell_type": "code",
   "execution_count": 18,
   "metadata": {},
   "outputs": [
    {
     "name": "stderr",
     "output_type": "stream",
     "text": [
      "/usr/local/lib/python3.6/site-packages/sklearn/preprocessing/label.py:151: DeprecationWarning: The truth value of an empty array is ambiguous. Returning False, but in future this will result in an error. Use `array.size > 0` to check that an array is not empty.\n",
      "  if diff:\n"
     ]
    },
    {
     "data": {
      "text/plain": [
       "0.6013289036544851"
      ]
     },
     "execution_count": 18,
     "metadata": {},
     "output_type": "execute_result"
    }
   ],
   "source": [
    "(clf.predict(x_test) == y_test).mean()"
   ]
  },
  {
   "cell_type": "markdown",
   "metadata": {},
   "source": [
    "## Test simple Logistic Regression"
   ]
  },
  {
   "cell_type": "code",
   "execution_count": 19,
   "metadata": {},
   "outputs": [
    {
     "data": {
      "text/plain": [
       "0.5983388704318937"
      ]
     },
     "execution_count": 19,
     "metadata": {},
     "output_type": "execute_result"
    }
   ],
   "source": [
    "clf = LogisticRegression()\n",
    "clf.fit(x_train, y_train)\n",
    "(clf.predict(x_test) == y_test).mean()"
   ]
  },
  {
   "cell_type": "markdown",
   "metadata": {},
   "source": [
    "## Try another way to encode text"
   ]
  },
  {
   "cell_type": "markdown",
   "metadata": {},
   "source": [
    "### Count Words encoding"
   ]
  },
  {
   "cell_type": "code",
   "execution_count": 20,
   "metadata": {},
   "outputs": [],
   "source": [
    "# Count Words encoding\n",
    "count_vect = CountVectorizer()#ngram_range=(1, 2))#, max_features=100000) #remove bigrams & max_features ??!!\n",
    "x_submission_counts = count_vect.fit_transform(x_submission) #only use words which are present in the final testing set\n",
    "x_train_counts = count_vect.transform(list(map(lambda c: c[1], data_train)))\n",
    "x_test_counts  = count_vect.transform(list(map(lambda c: c[1], data_test)))"
   ]
  },
  {
   "cell_type": "code",
   "execution_count": 21,
   "metadata": {},
   "outputs": [
    {
     "data": {
      "text/plain": [
       "RandomForestClassifier(bootstrap=True, class_weight=None, criterion='gini',\n",
       "            max_depth=None, max_features='auto', max_leaf_nodes=None,\n",
       "            min_impurity_decrease=0.0, min_impurity_split=None,\n",
       "            min_samples_leaf=1, min_samples_split=2,\n",
       "            min_weight_fraction_leaf=0.0, n_estimators=200, n_jobs=-1,\n",
       "            oob_score=False, random_state=None, verbose=0,\n",
       "            warm_start=False)"
      ]
     },
     "execution_count": 21,
     "metadata": {},
     "output_type": "execute_result"
    }
   ],
   "source": [
    "clf = RandomForestClassifier(n_estimators=200, n_jobs=-1)\n",
    "clf.fit(x_train_counts, y_train)"
   ]
  },
  {
   "cell_type": "code",
   "execution_count": 22,
   "metadata": {},
   "outputs": [
    {
     "data": {
      "text/plain": [
       "0.7149501661129568"
      ]
     },
     "execution_count": 22,
     "metadata": {},
     "output_type": "execute_result"
    }
   ],
   "source": [
    "(clf.predict(x_test_counts) == y_test).mean()"
   ]
  },
  {
   "cell_type": "code",
   "execution_count": 23,
   "metadata": {},
   "outputs": [
    {
     "data": {
      "text/plain": [
       "0.6995798319327731"
      ]
     },
     "execution_count": 23,
     "metadata": {},
     "output_type": "execute_result"
    }
   ],
   "source": [
    "f1_score(y_test, clf.predict(x_test_counts))"
   ]
  },
  {
   "cell_type": "markdown",
   "metadata": {},
   "source": [
    "### TF-IDF Encoding"
   ]
  },
  {
   "cell_type": "code",
   "execution_count": 24,
   "metadata": {},
   "outputs": [
    {
     "name": "stderr",
     "output_type": "stream",
     "text": [
      "/usr/local/lib/python3.6/site-packages/sklearn/feature_extraction/text.py:1089: FutureWarning: Conversion of the second argument of issubdtype from `float` to `np.floating` is deprecated. In future, it will be treated as `np.float64 == np.dtype(float).type`.\n",
      "  if hasattr(X, 'dtype') and np.issubdtype(X.dtype, np.float):\n"
     ]
    }
   ],
   "source": [
    "# TF-IDF encoding\n",
    "tfidf_transformer = TfidfTransformer()\n",
    "x_submission_tfidf = tfidf_transformer.fit_transform(x_submission_counts)\n",
    "x_train_tfidf = tfidf_transformer.transform(x_train_counts)\n",
    "x_test_tfidf  = tfidf_transformer.transform(x_test_counts)"
   ]
  },
  {
   "cell_type": "code",
   "execution_count": 25,
   "metadata": {},
   "outputs": [
    {
     "data": {
      "text/plain": [
       "RandomForestClassifier(bootstrap=True, class_weight=None, criterion='gini',\n",
       "            max_depth=None, max_features='auto', max_leaf_nodes=None,\n",
       "            min_impurity_decrease=0.0, min_impurity_split=None,\n",
       "            min_samples_leaf=1, min_samples_split=2,\n",
       "            min_weight_fraction_leaf=0.0, n_estimators=200, n_jobs=-1,\n",
       "            oob_score=False, random_state=None, verbose=0,\n",
       "            warm_start=False)"
      ]
     },
     "execution_count": 25,
     "metadata": {},
     "output_type": "execute_result"
    }
   ],
   "source": [
    "clf = RandomForestClassifier(n_estimators=200, n_jobs=-1)\n",
    "clf.fit(x_train_tfidf, y_train)"
   ]
  },
  {
   "cell_type": "code",
   "execution_count": 26,
   "metadata": {},
   "outputs": [
    {
     "data": {
      "text/plain": [
       "0.7008605851979346"
      ]
     },
     "execution_count": 26,
     "metadata": {},
     "output_type": "execute_result"
    }
   ],
   "source": [
    "f1_score(y_test, clf.predict(x_test_tfidf))"
   ]
  },
  {
   "cell_type": "code",
   "execution_count": 27,
   "metadata": {},
   "outputs": [
    {
     "data": {
      "text/plain": [
       "LogisticRegression(C=1.0, class_weight=None, dual=False, fit_intercept=True,\n",
       "          intercept_scaling=1, max_iter=100, multi_class='ovr', n_jobs=1,\n",
       "          penalty='l2', random_state=None, solver='liblinear', tol=0.0001,\n",
       "          verbose=0, warm_start=False)"
      ]
     },
     "execution_count": 27,
     "metadata": {},
     "output_type": "execute_result"
    }
   ],
   "source": [
    "logistic_clf = LogisticRegression()\n",
    "logistic_clf.fit(np.array(x_train_tfidf.toarray()), y_train)"
   ]
  },
  {
   "cell_type": "code",
   "execution_count": 28,
   "metadata": {},
   "outputs": [
    {
     "data": {
      "text/plain": [
       "0.7508417508417509"
      ]
     },
     "execution_count": 28,
     "metadata": {},
     "output_type": "execute_result"
    }
   ],
   "source": [
    "f1_score(y_test, logistic_clf.predict(x_test_tfidf.toarray())) #.75"
   ]
  },
  {
   "cell_type": "markdown",
   "metadata": {},
   "source": [
    "=> In this case the logistic regression seem to perform better than the random forest...\n",
    "\n",
    "___As the f1\\_score of sklearn is an average of the 2 f1\\_score of the 2 classes the results are lower on the real leader board___"
   ]
  },
  {
   "cell_type": "code",
   "execution_count": 37,
   "metadata": {},
   "outputs": [
    {
     "name": "stderr",
     "output_type": "stream",
     "text": [
      "/usr/local/lib/python3.6/site-packages/sklearn/linear_model/stochastic_gradient.py:84: FutureWarning: max_iter and tol parameters have been added in <class 'sklearn.linear_model.stochastic_gradient.SGDClassifier'> in 0.19. If both are left unset, they default to max_iter=5 and tol=None. If tol is not None, max_iter defaults to max_iter=1000. From 0.21, default max_iter will be 1000, and default tol will be 1e-3.\n",
      "  \"and default tol will be 1e-3.\" % type(self), FutureWarning)\n"
     ]
    },
    {
     "data": {
      "text/plain": [
       "SGDClassifier(alpha=0.0001, average=False, class_weight=None, epsilon=0.1,\n",
       "       eta0=0.0, fit_intercept=True, l1_ratio=0.15,\n",
       "       learning_rate='optimal', loss='hinge', max_iter=5, n_iter=None,\n",
       "       n_jobs=1, penalty='l2', power_t=0.5, random_state=None,\n",
       "       shuffle=True, tol=None, verbose=0, warm_start=False)"
      ]
     },
     "execution_count": 37,
     "metadata": {},
     "output_type": "execute_result"
    }
   ],
   "source": [
    "clf_svm = SGDClassifier(loss='hinge')\n",
    "clf_svm.fit(np.array(x_train_tfidf.toarray()), y_train)"
   ]
  },
  {
   "cell_type": "code",
   "execution_count": 38,
   "metadata": {},
   "outputs": [
    {
     "data": {
      "text/plain": [
       "0.7685723020483032"
      ]
     },
     "execution_count": 38,
     "metadata": {},
     "output_type": "execute_result"
    }
   ],
   "source": [
    "#as it's stochastic restart if no good enought\n",
    "f1_score(y_test, clf_svm.predict(x_test_tfidf.toarray()))"
   ]
  },
  {
   "cell_type": "markdown",
   "metadata": {},
   "source": [
    "## Build the submission"
   ]
  },
  {
   "cell_type": "code",
   "execution_count": 31,
   "metadata": {},
   "outputs": [],
   "source": [
    "out = clf_svm.predict(x_submission_tfidf) #logistic_clf #clf_svm"
   ]
  },
  {
   "cell_type": "code",
   "execution_count": 32,
   "metadata": {},
   "outputs": [],
   "source": [
    "out = list(map(lambda v: 'C' if v else 'M', out))"
   ]
  },
  {
   "cell_type": "code",
   "execution_count": 33,
   "metadata": {},
   "outputs": [
    {
     "data": {
      "text/plain": [
       "'CCCMMMMCCCCCMCCCMCCMCCCCMCMCCCCCCCCCCMCCCCCCMCMCCCCMMMCMCCCCCCCCCCCCCCCCCCCCCCCCCCCCCCCCCCCCCCCCMCCC'"
      ]
     },
     "execution_count": 33,
     "metadata": {},
     "output_type": "execute_result"
    }
   ],
   "source": [
    "''.join(out)[:100]"
   ]
  },
  {
   "cell_type": "code",
   "execution_count": 34,
   "metadata": {},
   "outputs": [],
   "source": [
    "f = open(str('out') + '.txt', 'w')\n",
    "f.write(''.join(out))\n",
    "f.close()"
   ]
  },
  {
   "cell_type": "markdown",
   "metadata": {},
   "source": [
    "### Make a voting solution from all previous solution\n",
    "\n",
    "Try to average submission..."
   ]
  },
  {
   "cell_type": "raw",
   "metadata": {},
   "source": [
    "import glob\n",
    "\n",
    "def get_chars(path):\n",
    "    f = open(path, 'r')\n",
    "    txt = f.read()\n",
    "    f.close()\n",
    "    return list(txt)\n",
    "\n",
    "pathes = glob.glob(\"0.*.txt\")\n",
    "scores = list(map(lambda p: float(p[:-4]), pathes))\n",
    "\n",
    "out = []\n",
    "\n",
    "for preds in list(zip(*list(map(get_chars, pathes)))):\n",
    "    C = sum([cc[1] for cc in filter(lambda c: c[0] == 'C', zip(preds, scores))])\n",
    "    M = sum([cc[1] for cc in filter(lambda c: c[0] == 'M', zip(preds, scores))])\n",
    "    out.append('C' if C > M else 'M')\n",
    "\n",
    "f = open(\"voted_submission.txt\", 'w')\n",
    "f.write(''.join(out))\n",
    "f.close()"
   ]
  },
  {
   "cell_type": "markdown",
   "metadata": {},
   "source": [
    "Didn't worked so well... :'( some solution alone are better... :("
   ]
  },
  {
   "cell_type": "markdown",
   "metadata": {},
   "source": [
    "## Try to predict after unsupervised topic classification\n",
    "\n",
    "- 20  => NOT WORKING AT ALL !!!\n",
    "- 100 => not good enought...\n",
    "\n",
    "\n",
    "It's seem we can't predict who is speaking only by looking his speech topic..."
   ]
  },
  {
   "cell_type": "code",
   "execution_count": null,
   "metadata": {},
   "outputs": [],
   "source": [
    "lda = LatentDirichletAllocation(100, n_jobs=-1)\n",
    "lda.fit(x_submission_counts)"
   ]
  },
  {
   "cell_type": "code",
   "execution_count": 101,
   "metadata": {},
   "outputs": [],
   "source": [
    "lda_topics = lda.transform(x_submission_counts)"
   ]
  },
  {
   "cell_type": "code",
   "execution_count": 102,
   "metadata": {},
   "outputs": [],
   "source": [
    "x_train_lda_topics = lda.transform(x_train_counts)"
   ]
  },
  {
   "cell_type": "code",
   "execution_count": 103,
   "metadata": {},
   "outputs": [],
   "source": [
    "x_test_lda_topics = lda.transform(x_test_counts)"
   ]
  },
  {
   "cell_type": "code",
   "execution_count": 104,
   "metadata": {},
   "outputs": [
    {
     "data": {
      "text/plain": [
       "LogisticRegression(C=1.0, class_weight=None, dual=False, fit_intercept=True,\n",
       "          intercept_scaling=1, max_iter=100, multi_class='ovr', n_jobs=1,\n",
       "          penalty='l2', random_state=None, solver='liblinear', tol=0.0001,\n",
       "          verbose=0, warm_start=False)"
      ]
     },
     "execution_count": 104,
     "metadata": {},
     "output_type": "execute_result"
    }
   ],
   "source": [
    "logistic_lda_clf = LogisticRegression()\n",
    "logistic_lda_clf.fit(np.array(x_train_lda_topics), y_train)"
   ]
  },
  {
   "cell_type": "code",
   "execution_count": 105,
   "metadata": {},
   "outputs": [
    {
     "data": {
      "text/plain": [
       "0.6273990734612839"
      ]
     },
     "execution_count": 105,
     "metadata": {},
     "output_type": "execute_result"
    }
   ],
   "source": [
    "f1_score(y_test, logistic_lda_clf.predict(x_test_lda_topics))"
   ]
  },
  {
   "cell_type": "code",
   "execution_count": 108,
   "metadata": {},
   "outputs": [],
   "source": [
    "out = list(map(lambda v: 'C' if v > .5 else 'M', smooth(logistic_lda_clf.predict(lda_topics), 17)))\n",
    "f = open(str('out') + '.txt', 'w')\n",
    "f.write(''.join(out))\n",
    "f.close()"
   ]
  },
  {
   "cell_type": "markdown",
   "metadata": {},
   "source": [
    "### Merging LDA output and BoW"
   ]
  },
  {
   "cell_type": "code",
   "execution_count": 117,
   "metadata": {},
   "outputs": [],
   "source": [
    "x_train_new_features = np.concatenate([x_train_tfidf.toarray(), x_train_lda_topics], 1)\n",
    "x_test_new_features  = np.concatenate([x_test_tfidf.toarray(),  x_test_lda_topics],  1)\n",
    "x_submission_new_features = np.concatenate([x_submission_tfidf.toarray(), lda_topics], 1)"
   ]
  },
  {
   "cell_type": "code",
   "execution_count": 123,
   "metadata": {},
   "outputs": [
    {
     "data": {
      "text/plain": [
       "RandomForestClassifier(bootstrap=True, class_weight=None, criterion='gini',\n",
       "            max_depth=None, max_features='auto', max_leaf_nodes=None,\n",
       "            min_impurity_decrease=0.0, min_impurity_split=None,\n",
       "            min_samples_leaf=1, min_samples_split=2,\n",
       "            min_weight_fraction_leaf=0.0, n_estimators=100, n_jobs=1,\n",
       "            oob_score=False, random_state=None, verbose=0,\n",
       "            warm_start=False)"
      ]
     },
     "execution_count": 123,
     "metadata": {},
     "output_type": "execute_result"
    }
   ],
   "source": [
    "bow_lda_clf = RandomForestClassifier(100)\n",
    "bow_lda_clf.fit(np.array(x_train_new_features), y_train)"
   ]
  },
  {
   "cell_type": "code",
   "execution_count": 124,
   "metadata": {},
   "outputs": [
    {
     "data": {
      "text/plain": [
       "0.648928818244644"
      ]
     },
     "execution_count": 124,
     "metadata": {},
     "output_type": "execute_result"
    }
   ],
   "source": [
    "f1_score(y_test, bow_lda_clf.predict(x_test_new_features))"
   ]
  },
  {
   "cell_type": "code",
   "execution_count": null,
   "metadata": {},
   "outputs": [],
   "source": []
  },
  {
   "cell_type": "markdown",
   "metadata": {},
   "source": [
    "## Smooth Results\n",
    "\n",
    "As we get a __.53__ f1 score we need to find a way to improve it !!\n",
    "\n",
    "As the dataset is _imbalanced_ and classes are _grouped_, we can smooth the predicted classes with a ___moving window___..."
   ]
  },
  {
   "cell_type": "code",
   "execution_count": 35,
   "metadata": {},
   "outputs": [
    {
     "data": {
      "text/plain": [
       "array([[0.46732975, 0.53267025],\n",
       "       [0.33302118, 0.66697882],\n",
       "       [0.32621112, 0.67378888],\n",
       "       ...,\n",
       "       [0.47477772, 0.52522228],\n",
       "       [0.77140283, 0.22859717],\n",
       "       [0.13432633, 0.86567367]])"
      ]
     },
     "execution_count": 35,
     "metadata": {},
     "output_type": "execute_result"
    }
   ],
   "source": [
    "logistic_clf.predict_proba(x_test_tfidf.toarray())"
   ]
  },
  {
   "cell_type": "code",
   "execution_count": 36,
   "metadata": {},
   "outputs": [],
   "source": [
    "#reload the training dataset \n",
    "real_labels = np.array(list(zip(*data))[0]) == 'C'"
   ]
  },
  {
   "cell_type": "code",
   "execution_count": 37,
   "metadata": {},
   "outputs": [
    {
     "name": "stderr",
     "output_type": "stream",
     "text": [
      "/usr/local/lib/python3.6/site-packages/sklearn/feature_extraction/text.py:1089: FutureWarning: Conversion of the second argument of issubdtype from `float` to `np.floating` is deprecated. In future, it will be treated as `np.float64 == np.dtype(float).type`.\n",
      "  if hasattr(X, 'dtype') and np.issubdtype(X.dtype, np.float):\n"
     ]
    }
   ],
   "source": [
    "#prepare the whole dataset\n",
    "all_dataset_count = count_vect.transform(list(zip(*data))[1])\n",
    "all_dataset_tfidf = tfidf_transformer.transform(all_dataset_count)"
   ]
  },
  {
   "cell_type": "code",
   "execution_count": 38,
   "metadata": {},
   "outputs": [],
   "source": [
    "pred_labels = logistic_clf.predict_proba(all_dataset_tfidf.toarray()).T[1]"
   ]
  },
  {
   "cell_type": "code",
   "execution_count": 44,
   "metadata": {},
   "outputs": [
    {
     "data": {
      "image/png": "[encoded data removed]",
      "text/plain": [
       "<matplotlib.figure.Figure at 0x127e34be0>"
      ]
     },
     "metadata": {},
     "output_type": "display_data"
    }
   ],
   "source": [
    "plt.title(\"on training data\")\n",
    "plt.plot(real_labels[:900])\n",
    "plt.plot(pred_labels[:900])\n",
    "plt.plot([.5] * 900)\n",
    "plt.show()"
   ]
  },
  {
   "cell_type": "code",
   "execution_count": 45,
   "metadata": {},
   "outputs": [
    {
     "data": {
      "image/png": "[encoded data removed]",
      "text/plain": [
       "<matplotlib.figure.Figure at 0x116cabe80>"
      ]
     },
     "metadata": {},
     "output_type": "display_data"
    }
   ],
   "source": [
    "plt.title(\"on testing data\")\n",
    "plt.plot(real_labels[::-1][:1000])\n",
    "plt.plot(pred_labels[::-1][:1000])\n",
    "plt.plot([.5] * 1000)\n",
    "plt.show()"
   ]
  },
  {
   "cell_type": "code",
   "execution_count": 62,
   "metadata": {},
   "outputs": [
    {
     "data": {
      "image/png": "[encoded data removed]",
      "text/plain": [
       "<matplotlib.figure.Figure at 0x139c0df28>"
      ]
     },
     "metadata": {},
     "output_type": "display_data"
    }
   ],
   "source": [
    "def smooth(y, box_pts):\n",
    "    box = np.ones(box_pts) / box_pts\n",
    "    y_smooth = np.convolve(y, box, mode='same')\n",
    "    return y_smooth\n",
    "\n",
    "plt.plot(real_labels[::-1][:1000][:135])\n",
    "plt.plot(pred_labels[::-1][:1000][:135])\n",
    "plt.plot(smooth(pred_labels[::-1][:1000][:135], 5))\n",
    "plt.plot([.5] * 135)\n",
    "plt.show()"
   ]
  },
  {
   "cell_type": "code",
   "execution_count": 67,
   "metadata": {},
   "outputs": [],
   "source": [
    "pred_submission = logistic_clf.predict_proba(x_submission_tfidf.toarray()).T[1]"
   ]
  },
  {
   "cell_type": "code",
   "execution_count": 80,
   "metadata": {},
   "outputs": [
    {
     "data": {
      "text/plain": [
       "[<matplotlib.lines.Line2D at 0x128145a58>]"
      ]
     },
     "execution_count": 80,
     "metadata": {},
     "output_type": "execute_result"
    },
    {
     "data": {
      "image/png": "[encoded data removed]",
      "text/plain": [
       "<matplotlib.figure.Figure at 0x139b34470>"
      ]
     },
     "metadata": {},
     "output_type": "display_data"
    }
   ],
   "source": [
    "plt.title(\"submission\")\n",
    "plt.plot(pred_submission[:100])\n",
    "plt.plot(smooth(pred_submission[:100], 17) > .5)\n",
    "plt.plot(smooth(pred_submission[:100], 17))\n",
    "plt.plot([0.5] * 100)"
   ]
  },
  {
   "cell_type": "code",
   "execution_count": 208,
   "metadata": {},
   "outputs": [],
   "source": [
    "#17 was the best window zize\n",
    "out = list(map(lambda v: 'C' if v > .5 else 'M',  smooth(pred_submission, 17)))\n",
    "f = open(str('out') + '.txt', 'w')\n",
    "f.write(''.join(out))\n",
    "f.close()"
   ]
  },
  {
   "cell_type": "markdown",
   "metadata": {},
   "source": [
    "After few tests, a window size of 17 worked the best and improved our score from __.53__ to __.74__ which is a __huge improvment__ ! "
   ]
  },
  {
   "cell_type": "code",
   "execution_count": 143,
   "metadata": {},
   "outputs": [
    {
     "data": {
      "image/png": "[encoded data removed]",
      "text/plain": [
       "<matplotlib.figure.Figure at 0x116d1dc18>"
      ]
     },
     "metadata": {},
     "output_type": "display_data"
    },
    {
     "data": {
      "image/png": "[encoded data removed]",
      "text/plain": [
       "<matplotlib.figure.Figure at 0x137612fd0>"
      ]
     },
     "metadata": {},
     "output_type": "display_data"
    }
   ],
   "source": [
    "plt.plot(real_labels[:300])\n",
    "plt.show()\n",
    "plt.imshow(lda_topics[:300].T > lda_topics[:300].T.std(0))\n",
    "plt.show()"
   ]
  },
  {
   "cell_type": "markdown",
   "metadata": {},
   "source": [
    "Adding some simple post processing handcrafted rules to remove still isolated elements..."
   ]
  },
  {
   "cell_type": "code",
   "execution_count": 160,
   "metadata": {},
   "outputs": [
    {
     "data": {
      "text/plain": [
       "'MMMMMMMMMMCCCCCCCCCCCCCCCCCCCCCCCCCCCCCCCCCMMMMMMMMMMMCCCCCCCCCCCCCCCCCCCCCCCCCCCCCCCCCCCCCCCCCCCCCC'"
      ]
     },
     "execution_count": 160,
     "metadata": {},
     "output_type": "execute_result"
    }
   ],
   "source": [
    "s = ''.join(out)\n",
    "s = s.replace(\"MMCMM\", \"MMMMM\")\n",
    "s = s.replace(\"CCMCC\", \"CCCCC\")\n",
    "s = s.replace(\"MCM\",   \"MMM\")\n",
    "s = s.replace(\"CMC\",   \"CCC\")\n",
    "\n",
    "s[:100]"
   ]
  },
  {
   "cell_type": "code",
   "execution_count": 161,
   "metadata": {},
   "outputs": [],
   "source": [
    "f = open(str('out') + '.txt', 'w')\n",
    "f.write(''.join(out))\n",
    "f.close()"
   ]
  },
  {
   "cell_type": "code",
   "execution_count": 172,
   "metadata": {},
   "outputs": [
    {
     "data": {
      "image/png": "[encoded data removed]",
      "text/plain": [
       "<matplotlib.figure.Figure at 0x139c9b9e8>"
      ]
     },
     "metadata": {},
     "output_type": "display_data"
    }
   ],
   "source": [
    "training_labels = ''.join(list(zip(*data))[0])\n",
    "\n",
    "groups = groupby(training_labels)\n",
    "result = [(label, sum(1 for _ in group)) for label, group in groups]\n",
    "m_groups_size = sorted(list(map(lambda c: c[1], filter(lambda c: c[0] == 'M', result))))\n",
    "\n",
    "plt.plot(m_groups_size[:150])\n",
    "plt.show()"
   ]
  },
  {
   "cell_type": "code",
   "execution_count": 182,
   "metadata": {},
   "outputs": [
    {
     "data": {
      "text/plain": [
       "[]"
      ]
     },
     "execution_count": 182,
     "metadata": {},
     "output_type": "execute_result"
    },
    {
     "data": {
      "image/png": "[encoded data removed]",
      "text/plain": [
       "<matplotlib.figure.Figure at 0x139e1ef28>"
      ]
     },
     "metadata": {},
     "output_type": "display_data"
    }
   ],
   "source": [
    "predicted_submission_labels = s #the last submission with the new rules\n",
    "\n",
    "groups = groupby(predicted_submission_labels)\n",
    "result = [(label, sum(1 for _ in group)) for label, group in groups]\n",
    "m_groups_size = sorted(list(map(lambda c: c[1], filter(lambda c: c[0] == 'M', result))))\n",
    "\n",
    "plt.plot(m_groups_size[:150])\n",
    "plt.plot()"
   ]
  },
  {
   "cell_type": "code",
   "execution_count": 204,
   "metadata": {},
   "outputs": [
    {
     "data": {
      "image/png": "[encoded data removed]",
      "text/plain": [
       "<matplotlib.figure.Figure at 0x1420bd8d0>"
      ]
     },
     "metadata": {},
     "output_type": "display_data"
    }
   ],
   "source": [
    "def merge_rules(txt):\n",
    "    s = ''.join(txt)\n",
    "    s = s.replace(\"MMCMM\", \"MMMMM\")\n",
    "    s = s.replace(\"CCMCC\", \"CCCCC\")\n",
    "    s = s.replace(\"MMCM\",   \"MMMM\")\n",
    "    s = s.replace(\"CCMC\",   \"CCCC\")\n",
    "    #s = s.replace(\"MMMCCM\",  \"MMMMMM\")\n",
    "    ##s = s.replace(\"MMMCCCM\", \"MMMMMMM\")\n",
    "    return s\n",
    "\n",
    "def compute_grouping(txt):\n",
    "    groups = groupby(txt)\n",
    "    result = [(label, sum(1 for _ in group)) for label, group in groups]\n",
    "    m_groups_size = sorted(list(map(lambda c: c[1], filter(lambda c: c[0] == 'M', result))))\n",
    "    return m_groups_size\n",
    "\n",
    "plt.plot(compute_grouping(out)[:200])\n",
    "plt.plot(compute_grouping(merge_rules(out))[:200])\n",
    "plt.plot(compute_grouping(training_labels)[:200])\n",
    "plt.show()"
   ]
  },
  {
   "cell_type": "code",
   "execution_count": 207,
   "metadata": {},
   "outputs": [],
   "source": [
    "f = open(str('out') + '.txt', 'w')\n",
    "f.write(''.join(merge_rules(merge_rules(out))))\n",
    "f.close()"
   ]
  },
  {
   "cell_type": "markdown",
   "metadata": {},
   "source": [
    "# Results\n",
    "\n",
    "- with a simple _Logistic Regression_ on _TF-IDF_ features we could achieve a _.53_ f1_score\n",
    "- by adding a simple post processing _convolution_ operation to smooth results we go up to _.74_ f1_score\n",
    "- few post post processing _handcrafted rules_ lead us to ___.749___ f1_score\n"
   ]
  },
  {
   "cell_type": "code",
   "execution_count": null,
   "metadata": {},
   "outputs": [],
   "source": []
  }
 ],
 "metadata": {
  "kernelspec": {
   "display_name": "Python 3",
   "language": "python",
   "name": "python3"
  },
  "language_info": {
   "codemirror_mode": {
    "name": "ipython",
    "version": 3
   },
   "file_extension": ".py",
   "mimetype": "text/x-python",
   "name": "python",
   "nbconvert_exporter": "python",
   "pygments_lexer": "ipython3",
   "version": "3.6.4"
  }
 },
 "nbformat": 4,
 "nbformat_minor": 2
}

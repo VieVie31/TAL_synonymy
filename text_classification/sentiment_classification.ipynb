{
 "cells": [
  {
   "cell_type": "markdown",
   "metadata": {},
   "source": [
    "# Sentiment Classification"
   ]
  },
  {
   "cell_type": "code",
   "execution_count": 123,
   "metadata": {},
   "outputs": [],
   "source": [
    "import re\n",
    "import numpy as np\n",
    "import scipy.interpolate as interp\n",
    "import matplotlib.pyplot as plt\n",
    "\n",
    "from glob import glob\n",
    "from random import shuffle\n",
    "from collections import Counter\n",
    "\n",
    "from sklearn.feature_extraction.text import CountVectorizer, TfidfTransformer\n",
    "from sklearn.naive_bayes import GaussianNB, MultinomialNB\n",
    "from sklearn.linear_model import LogisticRegression\n",
    "from sklearn.svm import LinearSVC, SVC\n",
    "from sklearn.calibration import CalibratedClassifierCV\n",
    "from sklearn.ensemble import RandomForestClassifier, AdaBoostClassifier, VotingClassifier\n",
    "from sklearn.ensemble import BaggingClassifier\n",
    "from sklearn.decomposition import LatentDirichletAllocation, MiniBatchSparsePCA"
   ]
  },
  {
   "cell_type": "code",
   "execution_count": 201,
   "metadata": {},
   "outputs": [],
   "source": [
    "ENGLISH_STOP_WORDS = frozenset([\n",
    "    \"a\", \"about\", \"above\", \"across\", \"after\", \"afterwards\", \"again\", \"against\",\n",
    "    \"all\", \"almost\", \"alone\", \"along\", \"already\", \"also\", \"although\", \"always\",\n",
    "    \"am\", \"among\", \"amongst\", \"amoungst\", \"amount\", \"an\", \"and\", \"another\",\n",
    "    \"any\", \"anyhow\", \"anyone\", \"anything\", \"anyway\", \"anywhere\", \"are\",\n",
    "    \"around\", \"as\", \"at\", \"back\", \"be\", \"became\", \"because\", \"become\",\n",
    "    \"becomes\", \"becoming\", \"been\", \"before\", \"beforehand\", \"behind\", \"being\",\n",
    "    \"below\", \"beside\", \"besides\", \"between\", \"beyond\", \"bill\", \"both\",\n",
    "    \"bottom\", \"but\", \"by\", \"call\", \"can\", \"cannot\", \"cant\", \"co\", \"con\",\n",
    "    \"could\", \"couldnt\", \"cry\", \"de\", \"describe\", \"detail\", \"do\", \"done\",\n",
    "    \"down\", \"due\", \"during\", \"each\", \"eg\", \"eight\", \"either\", \"eleven\", \"else\",\n",
    "    \"elsewhere\", \"empty\", \"enough\", \"etc\", \"even\", \"ever\", \"every\", \"everyone\",\n",
    "    \"everything\", \"everywhere\", \"except\", \"few\", \"fifteen\", \"fifty\", \"fill\",\n",
    "    \"find\", \"fire\", \"first\", \"five\", \"for\", \"former\", \"formerly\", \"forty\",\n",
    "    \"found\", \"four\", \"from\", \"front\", \"full\", \"further\", \"get\", \"give\", \"go\",\n",
    "    \"had\", \"has\", \"hasnt\", \"have\", \"he\", \"hence\", \"her\", \"here\", \"hereafter\",\n",
    "    \"hereby\", \"herein\", \"hereupon\", \"hers\", \"herself\", \"him\", \"himself\", \"his\",\n",
    "    \"how\", \"however\", \"hundred\", \"i\", \"ie\", \"if\", \"in\", \"inc\", \"indeed\",\n",
    "    \"interest\", \"into\", \"is\", \"it\", \"its\", \"itself\", \"keep\", \"last\", \"latter\",\n",
    "    \"latterly\", \"least\", \"less\", \"ltd\", \"made\", \"many\", \"may\", \"me\",\n",
    "    \"meanwhile\", \"might\", \"mill\", \"mine\", \"more\", \"moreover\", \"most\", \"mostly\",\n",
    "    \"move\", \"much\", \"must\", \"my\", \"myself\", \"name\", \"namely\", \"neither\",\n",
    "    \"never\", \"nevertheless\", \"next\", \"nine\", \"no\", \"nobody\", \"none\", \"noone\",\n",
    "    \"nor\", \"not\", \"nothing\", \"now\", \"nowhere\", \"of\", \"off\", \"often\", \"on\",\n",
    "    \"once\", \"one\", \"only\", \"onto\", \"or\", \"other\", \"others\", \"otherwise\", \"our\",\n",
    "    \"ours\", \"ourselves\", \"out\", \"over\", \"own\", \"part\", \"per\", \"perhaps\",\n",
    "    \"please\", \"put\", \"rather\", \"re\", \"same\", \"see\", \"seem\", \"seemed\",\n",
    "    \"seeming\", \"seems\", \"serious\", \"several\", \"she\", \"should\", \"show\", \"side\",\n",
    "    \"since\", \"sincere\", \"six\", \"sixty\", \"so\", \"some\", \"somehow\", \"someone\",\n",
    "    \"something\", \"sometime\", \"sometimes\", \"somewhere\", \"still\", \"such\",\n",
    "    \"system\", \"take\", \"ten\", \"than\", \"that\", \"the\", \"their\", \"them\",\n",
    "    \"themselves\", \"then\", \"thence\", \"there\", \"thereafter\", \"thereby\",\n",
    "    \"therefore\", \"therein\", \"thereupon\", \"these\", \"they\", \"thick\", \"thin\",\n",
    "    \"third\", \"this\", \"those\", \"though\", \"three\", \"through\", \"throughout\",\n",
    "    \"thru\", \"thus\", \"to\", \"together\", \"too\", \"top\", \"toward\", \"towards\",\n",
    "    \"twelve\", \"twenty\", \"two\", \"un\", \"under\", \"until\", \"up\", \"upon\", \"us\",\n",
    "    \"very\", \"via\", \"was\", \"we\", \"well\", \"were\", \"what\", \"whatever\", \"when\",\n",
    "    \"whence\", \"whenever\", \"where\", \"whereafter\", \"whereas\", \"whereby\",\n",
    "    \"wherein\", \"whereupon\", \"wherever\", \"whether\", \"which\", \"while\", \"whither\",\n",
    "    \"who\", \"whoever\", \"whole\", \"whom\", \"whose\", \"why\", \"will\", \"with\",\n",
    "    \"within\", \"without\", \"would\", \"yet\", \"you\", \"your\", \"yours\", \"yourself\",\n",
    "    \"yourselves\"])"
   ]
  },
  {
   "cell_type": "code",
   "execution_count": 202,
   "metadata": {},
   "outputs": [],
   "source": [
    "positives_path = glob(\"movies1000/pos/*\")\n",
    "negatives_path = glob(\"movies1000/neg/*\")"
   ]
  },
  {
   "cell_type": "code",
   "execution_count": 208,
   "metadata": {},
   "outputs": [],
   "source": [
    "def read_train_file(path):\n",
    "    f = open(path)\n",
    "    txt = f.read()\n",
    "    f.close()\n",
    "    return txt\n",
    "\n",
    "positives_txt = list(map(read_train_file, positives_path))\n",
    "negatives_txt = list(map(read_train_file, negatives_path))"
   ]
  },
  {
   "cell_type": "code",
   "execution_count": 209,
   "metadata": {},
   "outputs": [
    {
     "data": {
      "text/plain": [
       "\"films adapted from comic books have had plenty of success , whether they're about superheroes ( batm\""
      ]
     },
     "execution_count": 209,
     "metadata": {},
     "output_type": "execute_result"
    }
   ],
   "source": [
    "positives_txt[0][:100]"
   ]
  },
  {
   "cell_type": "code",
   "execution_count": 210,
   "metadata": {},
   "outputs": [
    {
     "data": {
      "text/plain": [
       "\"Story of a man who has unnatural feelings for a pig. Starts out with a opening scene that is a terrific example of absurd comedy. A formal orchestra audience is turned into an insane, violent mob by the crazy chantings of it's singers. Unfortunately it stays absurd the WHOLE time with no general narrative eventually making it just too off putting. Even those from the era should be turned off. The cryptic dialogue would make Shakespeare seem easy to a third grader. On a technical level it's better than you might think with some good cinematography by future great Vilmos Zsigmond. Future stars Sally Kirkland and Frederic Forrest can be seen briefly.\\n\""
      ]
     },
     "execution_count": 210,
     "metadata": {},
     "output_type": "execute_result"
    }
   ],
   "source": [
    "f = open(\"testSentiment.txt\")\n",
    "submission_txt = f.readlines()\n",
    "f.close()\n",
    "\n",
    "submission_txt[0]"
   ]
  },
  {
   "cell_type": "code",
   "execution_count": 211,
   "metadata": {},
   "outputs": [
    {
     "data": {
      "text/plain": [
       "(4124.283, 3661.721, 1326.06964)"
      ]
     },
     "execution_count": 211,
     "metadata": {},
     "output_type": "execute_result"
    }
   ],
   "source": [
    "(\n",
    "    np.array(list(map(len, positives_txt))).mean(), \n",
    "    np.array(list(map(len, negatives_txt))).mean(), \n",
    "    np.array(list(map(len, submission_txt))).mean(), \n",
    ")"
   ]
  },
  {
   "cell_type": "code",
   "execution_count": 212,
   "metadata": {},
   "outputs": [
    {
     "data": {
      "text/plain": [
       "'films adapted comic books plenty success , they\\'re superheroes ( batman , superman , spawn ) , geared kids ( casper ) arthouse crowd ( ghost world ) , there\\'s really comic book like hell . \\nfor starters , created alan moore ( eddie campbell ) , brought medium new level mid \\'80s 12-part series called watchmen . \\nto say moore campbell thoroughly researched subject jack ripper like saying michael jackson starting look little odd . \\nthe book ( \" graphic novel , \" ) 500 pages long includes nearly 30 consist footnotes . \\nin words , not_dismiss film source . \\nif past comic book thing , stumbling block hell\\'s directors , albert allen hughes . \\ngetting hughes brothers direct ludicrous casting carrot , , , riddle : better direct film that\\'s set ghetto features really violent street crime mad geniuses menace ii society ? \\nthe ghetto question , course , whitechapel 1888 london\\'s east end . \\nit filthy , sooty place whores ( called \" unfortunates \" ) starting little nervous mysterious psychopath carving profession surgical precision . \\nwhen stiff turns , copper peter godley ( robbie coltrane , world not_enough ) calls inspector frederick abberline ( johnny depp , blow ) crack case . \\nabberline , widower , prophetic dreams unsuccessfully tries quell copious amounts absinthe opium . \\nupon arriving whitechapel , befriends unfortunate named mary kelly ( heather graham , say not_so ) proceeds investigate horribly gruesome crimes police surgeon ca not_stomach . \\ni not_think needs briefed jack ripper , wo not_go particulars , say moore campbell unique interesting theory identity killer reasons chooses slay . \\nin comic , not_bother cloaking identity ripper , screenwriters terry hayes ( vertical limit ) rafael yglesias ( les mis ? rables ) good job keeping hidden viewers end . \\nit funny watch locals blindly point finger blame jews indians , , englishman capable committing ghastly acts . \\nand hell\\'s ending whistling stonecutters song simpsons days ( \" holds electric car/who steve guttenberg star ? \" ) . \\ndo not_worry - will_future make sense . \\nnow hell\\'s appearance : certainly dark bleak , surprising looks like tim burton film planet apes did ( times , like sleepy hollow 2 ) . \\nthe print saw not_completely finished ( color music not_been finalized , comments marilyn manson ) , cinematographer peter deming ( not_say word ) ably captures dreariness victorian-era london helped make flashy killing scenes remind crazy flashbacks twin peaks , violence film pales comparison black-and-white comic . \\noscar winner martin childs\\' ( shakespeare love ) production design turns original prague surroundings creepy place . \\neven acting hell solid , dreamy depp turning typically strong performance deftly handling british accent . \\nians holm ( joe gould\\'s secret ) richardson ( 102 dalmatians ) log great supporting roles , big surprise graham . \\ni cringed time opened mouth , imagining attempt irish accent , actually not_half bad . \\nthe film , , good . \\n2 :  - r strong violence/gore , sexuality , language drug content \\n'"
      ]
     },
     "execution_count": 212,
     "metadata": {},
     "output_type": "execute_result"
    }
   ],
   "source": [
    "def preprocessing(txt): #TODO: find a way to merge names\n",
    "    #txt = txt.lower()\n",
    "    txt = txt.replace(' /', '/').replace('/ ', '/')\n",
    "    txt = txt.replace('_', ' ')              #not after because of the created words...\n",
    "    txt = txt.replace('<br/>', ' ')\n",
    "    txt = txt.replace('it\\'s', 'it is')\n",
    "    txt = txt.replace('n\\'t', ' not') \n",
    "    txt = txt.replace('\\'ll', ' will_future')\n",
    "    txt = txt.replace('not ', 'not_') #make negation becaming bigrams\n",
    "    txt = txt.replace(' th ', 'th ') #for numbers\n",
    "    for w in ENGLISH_STOP_WORDS: #remove all stopwords\n",
    "        txt = txt.replace(' ' + w + ' ', ' ')\n",
    "    for e in re.findall(r'\\.\\.+', txt): #elipsis\n",
    "        txt.replace(e, '_ELISPSIS_')\n",
    "    #detect all notes and make them on 10\n",
    "    for p in re.findall(r'\\d*[.,]*\\d*%', txt): #get all percentages\n",
    "        if p != '%':\n",
    "            txt = txt.replace(\n",
    "                p, \n",
    "                ' ' + str(int(float(p[:-1].replace(',', '.')) / 10)) + '_NOTE '\n",
    "            )\n",
    "    for n in re.findall(r'\\d+ out of \\d+', txt): #get all marks\n",
    "        a, b = n.split(' out of ')\n",
    "        a, b = float(a), float(b)\n",
    "        txt = txt.replace(n, ' ' + str(int((a / b) * 10)) + '_NOTE ')\n",
    "    for n in re.findall(r'\\d+[.,]*\\d*/\\d+[.,]*\\d*', txt):\n",
    "        try:\n",
    "            a, b = n.split('/')\n",
    "            a, b = float(a.replace(',', '.')), float(b)\n",
    "            txt = txt.replace(n, ' ' + str(int(a / b)) + '_NOTE ')\n",
    "        except:\n",
    "            print(n)\n",
    "    for n in re.findall(r'\\d+[.,]*\\d*/10', txt):#re.findall(r'\\d+[.,]*\\d*/\\d+[.,]*\\d*', txt):\n",
    "        try:\n",
    "            a, b = n.split('/')\n",
    "            a, b = float(a.replace(',', '.')), float(b)\n",
    "            txt = txt.replace(n, ' ' + str(int(a / b)) + '_NOTE ')\n",
    "        except:\n",
    "            print(n)\n",
    "    #for r in re.findall(r'rating\\sof\\s\\d+[.,]*\\d*', txt):   \n",
    "    for n_0 in re.findall(\"\\ 0+\", txt): #sert a rien\n",
    "        txt = txt.replace(n_0, ' ')\n",
    "    for n in re.findall(\" \\d+s \", txt):\n",
    "        txt = txt.replace(n, ' ' + n[1:-2] + ' ')\n",
    "    return txt\n",
    "\n",
    "preprocessing(positives_txt[0])"
   ]
  },
  {
   "cell_type": "code",
   "execution_count": 213,
   "metadata": {},
   "outputs": [
    {
     "name": "stdout",
     "output_type": "stream",
     "text": [
      "10/10,\n",
      "1/10,\n",
      "2/10,\n",
      "10/10,\n",
      "8/10....\n",
      "10/10,\n",
      "2/10,\n",
      "9/11,\n",
      "9/11,\n",
      "9/11,\n",
      "9/11,\n",
      "9/11,\n",
      "9/11,\n",
      "9/11,\n",
      "9/11,\n",
      "8/10,\n",
      "1/10,\n",
      "3/10,\n",
      "10/10,\n",
      "10/10,\n",
      "3/10,\n",
      "9/10,\n",
      "3/10,\n",
      "6/10,\n",
      "0/10...\n",
      "1/10.......\n",
      "6/10,\n",
      "4/10,\n",
      "3/10,\n",
      "10/10,\n",
      "10/10,\n",
      "8/10,\n",
      "4/10,\n",
      "7/10,\n",
      "1/2007,\n",
      "2.5/5...\n",
      "4.0/10,\n",
      "1/2...\n",
      "1/2,\n",
      "1950/51,\n",
      "1/10.......\n",
      "9/10...\n",
      "9/10,\n",
      "10/10...\n",
      "1/10,\n",
      "1/10,\n",
      "2/10,\n",
      "10/10,\n",
      "9/11,\n",
      "3/10,\n",
      "1/2...\n",
      "10/10...\n",
      "1.5/10,\n",
      "7/10,\n",
      "10/10..\n",
      "7/10,\n",
      "2/10,\n",
      "7/10,\n",
      "3/10,\n",
      "10/10,\n",
      "8/10,\n",
      "10/10,\n",
      "4/10,\n",
      "9/11,\n",
      "4/10...\n",
      "10/10,\n",
      "3/10,\n",
      "10/10,\n",
      "10/10,\n",
      "1/5,\n",
      "2/10,\n",
      "0/0\n",
      "9/10,\n",
      "3/10,\n",
      "3/10,\n",
      "5/10,\n",
      "4/10,\n",
      "8/10...\n",
      "7/10....\n",
      "2/10,\n",
      "3/10,\n",
      "2/5,\n",
      "0/10..\n",
      "1/2,\n",
      "0/1,000\n",
      "8/10,\n",
      "9/11,\n",
      "9/11,\n",
      "9/11,\n",
      "8.5/10,\n",
      "7.5/10,\n",
      "8.5/10,\n",
      "8/10,\n",
      "24/7,\n",
      "1/10,\n"
     ]
    }
   ],
   "source": [
    "positives_txt = list(map(preprocessing, positives_txt))\n",
    "negatives_txt = list(map(preprocessing, negatives_txt))\n",
    "submission_txt = list(map(preprocessing, submission_txt))"
   ]
  },
  {
   "cell_type": "code",
   "execution_count": 214,
   "metadata": {},
   "outputs": [],
   "source": [
    "count_vect = CountVectorizer()#ngram_range=(1, 2))#, max_features=100000) #work bettern without bigrams\n",
    "submission_txt_counts = count_vect.fit_transform(submission_txt) #only use words which are present in the final testing set\n",
    "positives_txt_count = count_vect.transform(positives_txt)\n",
    "negatives_txt_count = count_vect.transform(negatives_txt)"
   ]
  },
  {
   "cell_type": "code",
   "execution_count": 215,
   "metadata": {},
   "outputs": [
    {
     "name": "stderr",
     "output_type": "stream",
     "text": [
      "/usr/local/lib/python3.6/site-packages/sklearn/feature_extraction/text.py:1089: FutureWarning: Conversion of the second argument of issubdtype from `float` to `np.floating` is deprecated. In future, it will be treated as `np.float64 == np.dtype(float).type`.\n",
      "  if hasattr(X, 'dtype') and np.issubdtype(X.dtype, np.float):\n"
     ]
    }
   ],
   "source": [
    "# TF-IDF encoding\n",
    "tfidf_transformer = TfidfTransformer()\n",
    "submission_txt_tfidf = tfidf_transformer.fit_transform(submission_txt_counts)\n",
    "positives_txt_tfidf = tfidf_transformer.transform(positives_txt_count)\n",
    "negatives_txt_tfidf = tfidf_transformer.transform(negatives_txt_count)"
   ]
  },
  {
   "cell_type": "code",
   "execution_count": 216,
   "metadata": {},
   "outputs": [],
   "source": [
    "shuffle(list(positives_txt_tfidf))\n",
    "shuffle(list(negatives_txt_tfidf))"
   ]
  },
  {
   "cell_type": "code",
   "execution_count": 217,
   "metadata": {},
   "outputs": [],
   "source": [
    "x_train_txt = list(positives_txt[:800]) + list(negatives_txt[:800])\n",
    "x_test_txt  = list(positives_txt[800:]) + list(negatives_txt[800:])\n",
    "\n",
    "x_train = list(positives_txt_tfidf[:800]) + list(negatives_txt_tfidf[:800])\n",
    "x_test  = list(positives_txt_tfidf[800:]) + list(negatives_txt_tfidf[800:])"
   ]
  },
  {
   "cell_type": "code",
   "execution_count": 218,
   "metadata": {},
   "outputs": [],
   "source": [
    "training_data = list(zip(x_train, [1] * 800 + [0] * 800, x_train_txt))\n",
    "testing_data  = list(zip(x_test,  [1] * 200 + [0] * 200, x_test_txt))"
   ]
  },
  {
   "cell_type": "code",
   "execution_count": 219,
   "metadata": {},
   "outputs": [],
   "source": [
    "shuffle(training_data)\n",
    "shuffle(testing_data)"
   ]
  },
  {
   "cell_type": "code",
   "execution_count": 220,
   "metadata": {},
   "outputs": [],
   "source": [
    "x_train, y_train, x_train_txt = zip(*training_data)\n",
    "x_test,  y_test,  x_test_txt  = zip(*testing_data)"
   ]
  },
  {
   "cell_type": "code",
   "execution_count": 221,
   "metadata": {},
   "outputs": [],
   "source": [
    "x_train = np.array(list(map(lambda L: L.toarray()[0], x_train)))\n",
    "x_test  = np.array(list(map(lambda L: L.toarray()[0], x_test)))"
   ]
  },
  {
   "cell_type": "code",
   "execution_count": 151,
   "metadata": {},
   "outputs": [
    {
     "data": {
      "text/plain": [
       "(0.5, 282)"
      ]
     },
     "execution_count": 151,
     "metadata": {},
     "output_type": "execute_result"
    }
   ],
   "source": [
    "#just few cehcks\n",
    "np.array(y_train).mean(), len(set(positives_txt_tfidf.toarray()[5]))"
   ]
  },
  {
   "cell_type": "code",
   "execution_count": 141,
   "metadata": {},
   "outputs": [
    {
     "data": {
      "text/plain": [
       "(3.1272244955168496e-05, 3.0034728102255493e-05)"
      ]
     },
     "execution_count": 141,
     "metadata": {},
     "output_type": "execute_result"
    }
   ],
   "source": [
    "#check there is no a simple threshold way to separe positives from negatives\n",
    "positives_txt_tfidf.toarray().mean(1).std(), negatives_txt_tfidf.toarray().mean(1).std()"
   ]
  },
  {
   "cell_type": "markdown",
   "metadata": {},
   "source": [
    "## Simple try on TF-IDF vectors"
   ]
  },
  {
   "cell_type": "code",
   "execution_count": 226,
   "metadata": {},
   "outputs": [
    {
     "data": {
      "text/plain": [
       "LinearSVC(C=1, class_weight=None, dual=True, fit_intercept=True,\n",
       "     intercept_scaling=1, loss='squared_hinge', max_iter=1000,\n",
       "     multi_class='ovr', penalty='l2', random_state=None, tol=0.0001,\n",
       "     verbose=0)"
      ]
     },
     "execution_count": 226,
     "metadata": {},
     "output_type": "execute_result"
    }
   ],
   "source": [
    "logistic_clf = LinearSVC(C=1)#0)#C#CalibratedClassifierCV(LinearSVC(C=1.5)) #LinearSVC()\n",
    "logistic_clf.fit(x_train, y_train)"
   ]
  },
  {
   "cell_type": "code",
   "execution_count": 227,
   "metadata": {},
   "outputs": [
    {
     "data": {
      "text/plain": [
       "0.8725"
      ]
     },
     "execution_count": 227,
     "metadata": {},
     "output_type": "execute_result"
    }
   ],
   "source": [
    "(logistic_clf.predict(x_test) == y_test).mean() #a lower accuracy can get a better accuracy on the real leader board..."
   ]
  },
  {
   "cell_type": "code",
   "execution_count": 142,
   "metadata": {},
   "outputs": [
    {
     "name": "stdout",
     "output_type": "stream",
     "text": [
      "0 0.6574546323901839\n",
      "1 -0.0676238328271007\n",
      "2 -0.07961109472081579\n",
      "3 0.01934811469797378\n",
      "4 0.0\n",
      "5 -0.029520565566614972\n",
      "6 -0.06764169068505052\n",
      "7 -0.004704048860954397\n",
      "8 -0.04183636820155538\n",
      "9 -0.08298789739326498\n"
     ]
    }
   ],
   "source": [
    "for i in range(10):\n",
    "    print(i, end=' ')\n",
    "    print(logistic_clf.coef_[0, count_vect.get_feature_names().index('{}_note'.format(i))])\n",
    "#strangely notes values are reversed... FIXME ?"
   ]
  },
  {
   "cell_type": "code",
   "execution_count": 119,
   "metadata": {},
   "outputs": [
    {
     "data": {
      "text/plain": [
       "RandomForestClassifier(bootstrap=True, class_weight=None, criterion='gini',\n",
       "            max_depth=None, max_features='auto', max_leaf_nodes=None,\n",
       "            min_impurity_decrease=0.0, min_impurity_split=None,\n",
       "            min_samples_leaf=1, min_samples_split=2,\n",
       "            min_weight_fraction_leaf=0.0, n_estimators=2000, n_jobs=-1,\n",
       "            oob_score=False, random_state=None, verbose=0,\n",
       "            warm_start=False)"
      ]
     },
     "execution_count": 119,
     "metadata": {},
     "output_type": "execute_result"
    }
   ],
   "source": [
    "forest_clf = RandomForestClassifier(2000, n_jobs=-1)\n",
    "forest_clf.fit(x_train, y_train)"
   ]
  },
  {
   "cell_type": "code",
   "execution_count": 120,
   "metadata": {},
   "outputs": [
    {
     "data": {
      "text/plain": [
       "0.8025"
      ]
     },
     "execution_count": 120,
     "metadata": {},
     "output_type": "execute_result"
    }
   ],
   "source": [
    "(forest_clf.predict(x_test) == y_test).mean()"
   ]
  },
  {
   "cell_type": "code",
   "execution_count": 143,
   "metadata": {},
   "outputs": [
    {
     "data": {
      "text/plain": [
       "MultinomialNB(alpha=0.7, class_prior=None, fit_prior=True)"
      ]
     },
     "execution_count": 143,
     "metadata": {},
     "output_type": "execute_result"
    }
   ],
   "source": [
    "bayes_clf = MultinomialNB(alpha=.7)\n",
    "bayes_clf.fit(x_train, y_train)"
   ]
  },
  {
   "cell_type": "code",
   "execution_count": 144,
   "metadata": {},
   "outputs": [
    {
     "data": {
      "text/plain": [
       "0.8"
      ]
     },
     "execution_count": 144,
     "metadata": {},
     "output_type": "execute_result"
    }
   ],
   "source": [
    "(bayes_clf.predict(x_test) == y_test).mean()"
   ]
  },
  {
   "cell_type": "code",
   "execution_count": 64,
   "metadata": {},
   "outputs": [
    {
     "ename": "AttributeError",
     "evalue": "'LinearSVC' object has no attribute 'predict_proba'",
     "output_type": "error",
     "traceback": [
      "\u001b[0;31m---------------------------------------------------------------------------\u001b[0m",
      "\u001b[0;31mAttributeError\u001b[0m                            Traceback (most recent call last)",
      "\u001b[0;32m<ipython-input-64-746b6ec96f66>\u001b[0m in \u001b[0;36m<module>\u001b[0;34m()\u001b[0m\n\u001b[1;32m      3\u001b[0m     \u001b[0;31m#  (bayes_clf.predict_proba(x_test) * .8)  #seem to work better without bayes\u001b[0m\u001b[0;34m\u001b[0m\u001b[0;34m\u001b[0m\u001b[0m\n\u001b[1;32m      4\u001b[0m     \u001b[0;34m+\u001b[0m \u001b[0;34m(\u001b[0m\u001b[0mforest_clf\u001b[0m\u001b[0;34m.\u001b[0m\u001b[0mpredict_proba\u001b[0m\u001b[0;34m(\u001b[0m\u001b[0mx_test\u001b[0m\u001b[0;34m)\u001b[0m \u001b[0;34m*\u001b[0m \u001b[0;36m.8075\u001b[0m\u001b[0;34m)\u001b[0m\u001b[0;34m\u001b[0m\u001b[0m\n\u001b[0;32m----> 5\u001b[0;31m     \u001b[0;34m+\u001b[0m \u001b[0;34m(\u001b[0m\u001b[0mlogistic_clf\u001b[0m\u001b[0;34m.\u001b[0m\u001b[0mpredict_proba\u001b[0m\u001b[0;34m(\u001b[0m\u001b[0mx_test\u001b[0m\u001b[0;34m)\u001b[0m \u001b[0;34m*\u001b[0m \u001b[0;36m.8775\u001b[0m\u001b[0;34m)\u001b[0m\u001b[0;34m\u001b[0m\u001b[0m\n\u001b[0m\u001b[1;32m      6\u001b[0m ).argmax(1) == y_test).mean()\n",
      "\u001b[0;31mAttributeError\u001b[0m: 'LinearSVC' object has no attribute 'predict_proba'"
     ]
    }
   ],
   "source": [
    "#voting classifier\n",
    "((\n",
    "    #  (bayes_clf.predict_proba(x_test) * .8)  #seem to work better without bayes\n",
    "    + (forest_clf.predict_proba(x_test) * .8075) \n",
    "    + (logistic_clf.predict_proba(x_test) * .8775)\n",
    ").argmax(1) == y_test).mean()"
   ]
  },
  {
   "cell_type": "code",
   "execution_count": 69,
   "metadata": {},
   "outputs": [
    {
     "data": {
      "text/plain": [
       "BaggingClassifier(base_estimator=LogisticRegression(C=1.5, class_weight=None, dual=False, fit_intercept=True,\n",
       "          intercept_scaling=1, max_iter=100, multi_class='ovr', n_jobs=1,\n",
       "          penalty='l2', random_state=None, solver='liblinear', tol=0.0001,\n",
       "          verbose=0, warm_start=False),\n",
       "         bootstrap=True, bootstrap_features=False, max_features=0.5,\n",
       "         max_samples=1.0, n_estimators=100, n_jobs=1, oob_score=False,\n",
       "         random_state=None, verbose=0, warm_start=False)"
      ]
     },
     "execution_count": 69,
     "metadata": {},
     "output_type": "execute_result"
    }
   ],
   "source": [
    "bag_clf = BaggingClassifier(\n",
    "    base_estimator=LogisticRegression(C=1.5),#CalibratedClassifierCV(LinearSVC()),#LogisticRegression(),\n",
    "    n_estimators=100,\n",
    "    max_features=.5\n",
    ")#NO IMPORVMENT\n",
    "bag_clf.fit(x_train, y_train)"
   ]
  },
  {
   "cell_type": "code",
   "execution_count": 70,
   "metadata": {},
   "outputs": [
    {
     "data": {
      "text/plain": [
       "0.8375"
      ]
     },
     "execution_count": 70,
     "metadata": {},
     "output_type": "execute_result"
    }
   ],
   "source": [
    "(bag_clf.predict(x_test) == y_test).mean()"
   ]
  },
  {
   "cell_type": "markdown",
   "metadata": {},
   "source": [
    "## Try to inject samples"
   ]
  },
  {
   "cell_type": "code",
   "execution_count": 644,
   "metadata": {},
   "outputs": [
    {
     "data": {
      "text/plain": [
       "134"
      ]
     },
     "execution_count": 644,
     "metadata": {},
     "output_type": "execute_result"
    }
   ],
   "source": [
    "new_pos_idx = np.where(logistic_clf.predict_proba(x_test).T[0] > .65)[0]\n",
    "new_neg_idx = np.where(logistic_clf.predict_proba(x_test).T[0] < .35)[0]\n",
    "new_idx_ln = min(len(new_pos_idx), len(new_neg_idx))\n",
    "new_idx_ln"
   ]
  },
  {
   "cell_type": "code",
   "execution_count": 645,
   "metadata": {},
   "outputs": [],
   "source": [
    "shuffle(new_pos_idx)\n",
    "shuffle(new_neg_idx)"
   ]
  },
  {
   "cell_type": "code",
   "execution_count": 646,
   "metadata": {},
   "outputs": [],
   "source": [
    "new_pos_idx = new_pos_idx[:new_idx_ln]\n",
    "new_neg_idx = new_neg_idx[:new_idx_ln]"
   ]
  },
  {
   "cell_type": "code",
   "execution_count": 647,
   "metadata": {},
   "outputs": [],
   "source": [
    "new_x_train = list(x_test[new_pos_idx]) + list(x_test[new_neg_idx])\n",
    "new_y_train = [1] * new_idx_ln + [0] * new_idx_ln"
   ]
  },
  {
   "cell_type": "code",
   "execution_count": 648,
   "metadata": {},
   "outputs": [],
   "source": [
    "new_data_train = list(zip(new_x_train, new_y_train))\n",
    "shuffle(new_data_train)\n",
    "new_x_train, new_y_train = list(zip(*new_data_train))\n",
    "new_x_train = np.array(new_x_train)\n",
    "new_y_train = np.array(new_y_train)"
   ]
  },
  {
   "cell_type": "code",
   "execution_count": 649,
   "metadata": {},
   "outputs": [],
   "source": [
    "new_x_train = np.concatenate([x_train, new_x_train], axis=0)\n",
    "new_y_train = np.array(list(y_train) + list(new_y_train))"
   ]
  },
  {
   "cell_type": "code",
   "execution_count": 650,
   "metadata": {},
   "outputs": [
    {
     "data": {
      "text/plain": [
       "LogisticRegression(C=10, class_weight=None, dual=False, fit_intercept=True,\n",
       "          intercept_scaling=1, max_iter=100, multi_class='ovr', n_jobs=1,\n",
       "          penalty='l2', random_state=None, solver='liblinear', tol=0.0001,\n",
       "          verbose=0, warm_start=False)"
      ]
     },
     "execution_count": 650,
     "metadata": {},
     "output_type": "execute_result"
    }
   ],
   "source": [
    "logistic_new_clf = LogisticRegression(C=10) #CalibratedClassifierCV(LinearSVC(C=10)) #LinearSVC()\n",
    "logistic_new_clf.fit(new_x_train, new_y_train)"
   ]
  },
  {
   "cell_type": "code",
   "execution_count": 651,
   "metadata": {},
   "outputs": [
    {
     "data": {
      "text/plain": [
       "0.875"
      ]
     },
     "execution_count": 651,
     "metadata": {},
     "output_type": "execute_result"
    }
   ],
   "source": [
    "(logistic_clf.predict(x_test) == y_test).mean()"
   ]
  },
  {
   "cell_type": "markdown",
   "metadata": {},
   "source": [
    "==> Didn't improved anything... :'("
   ]
  },
  {
   "cell_type": "markdown",
   "metadata": {},
   "source": [
    "## Explore evolution of opinion in comment\n",
    "\n",
    "I asked myself if they was a relation between the evolution of sentiment in comment and it's class..."
   ]
  },
  {
   "cell_type": "code",
   "execution_count": 652,
   "metadata": {},
   "outputs": [],
   "source": [
    "def sentiment_by_sentence(txt, clf):\n",
    "    sentenses = txt.split('.')\n",
    "    sentenses_count = count_vect.transform(sentenses)\n",
    "    sentenses_tfidf = tfidf_transformer.transform(sentenses_count)\n",
    "    sentenses_tfidf_array = np.array(list(map(lambda s: s.toarray()[0], sentenses_tfidf)))\n",
    "    return clf.predict_proba(sentenses_tfidf_array).T[0]"
   ]
  },
  {
   "cell_type": "code",
   "execution_count": 653,
   "metadata": {},
   "outputs": [
    {
     "name": "stderr",
     "output_type": "stream",
     "text": [
      "/usr/local/lib/python3.6/site-packages/sklearn/feature_extraction/text.py:1089: FutureWarning: Conversion of the second argument of issubdtype from `float` to `np.floating` is deprecated. In future, it will be treated as `np.float64 == np.dtype(float).type`.\n",
      "  if hasattr(X, 'dtype') and np.issubdtype(X.dtype, np.float):\n"
     ]
    },
    {
     "data": {
      "image/png": "[encoded data removed]",
      "text/plain": [
       "<matplotlib.figure.Figure at 0x13f5accc0>"
      ]
     },
     "metadata": {},
     "output_type": "display_data"
    }
   ],
   "source": [
    "plt.title(\"evolution of sentiment in a random comment\")\n",
    "plt.plot(sentiment_by_sentence(positives_txt[0], logistic_clf))\n",
    "plt.plot([.5] * 24)\n",
    "plt.show()"
   ]
  },
  {
   "cell_type": "code",
   "execution_count": 547,
   "metadata": {},
   "outputs": [
    {
     "name": "stderr",
     "output_type": "stream",
     "text": [
      "/usr/local/lib/python3.6/site-packages/sklearn/feature_extraction/text.py:1089: FutureWarning: Conversion of the second argument of issubdtype from `float` to `np.floating` is deprecated. In future, it will be treated as `np.float64 == np.dtype(float).type`.\n",
      "  if hasattr(X, 'dtype') and np.issubdtype(X.dtype, np.float):\n"
     ]
    }
   ],
   "source": [
    "train_evolution_o = np.array(list(map(lambda c: sentiment_by_sentence(c, logistic_clf), x_train_txt)))"
   ]
  },
  {
   "cell_type": "code",
   "execution_count": 548,
   "metadata": {},
   "outputs": [
    {
     "name": "stderr",
     "output_type": "stream",
     "text": [
      "/usr/local/lib/python3.6/site-packages/sklearn/feature_extraction/text.py:1089: FutureWarning: Conversion of the second argument of issubdtype from `float` to `np.floating` is deprecated. In future, it will be treated as `np.float64 == np.dtype(float).type`.\n",
      "  if hasattr(X, 'dtype') and np.issubdtype(X.dtype, np.float):\n"
     ]
    }
   ],
   "source": [
    "test_evolution_o = np.array(list(map(lambda c: sentiment_by_sentence(c, logistic_clf), x_test_txt)))"
   ]
  },
  {
   "cell_type": "code",
   "execution_count": 578,
   "metadata": {},
   "outputs": [
    {
     "data": {
      "text/plain": [
       "20"
      ]
     },
     "execution_count": 578,
     "metadata": {},
     "output_type": "execute_result"
    }
   ],
   "source": [
    "mean_ln = int(np.array(list(map(len, test_evolution_o))).mean())\n",
    "mean_ln = 20\n",
    "int(mean_ln)"
   ]
  },
  {
   "cell_type": "code",
   "execution_count": 579,
   "metadata": {},
   "outputs": [],
   "source": [
    "def resize_vector(vector, new_len):\n",
    "    return np.kron(np.array([vector.flatten()]), np.array([1] * new_len)).T\n"
   ]
  },
  {
   "cell_type": "code",
   "execution_count": 580,
   "metadata": {},
   "outputs": [],
   "source": [
    "train_evolution = np.array(list(map(lambda v: resize_vector(v[0], mean_ln), train_evolution_o)))\n",
    "test_evolution  = np.array(list(map(lambda v: resize_vector(v[0], mean_ln), test_evolution_o)))"
   ]
  },
  {
   "cell_type": "code",
   "execution_count": 581,
   "metadata": {},
   "outputs": [],
   "source": [
    "train_evolution = train_evolution.reshape(train_evolution.shape[:-1])\n",
    "test_evolution  = test_evolution.reshape(test_evolution.shape[:-1])"
   ]
  },
  {
   "cell_type": "code",
   "execution_count": 582,
   "metadata": {},
   "outputs": [],
   "source": [
    "train_evolution = train_evolution[:, :-1] - train_evolution[:, 1:]\n",
    "test_evolution  = test_evolution[:, :-1]  - test_evolution[:, 1:]"
   ]
  },
  {
   "cell_type": "code",
   "execution_count": 583,
   "metadata": {},
   "outputs": [
    {
     "data": {
      "text/plain": [
       "LinearSVC(C=1.0, class_weight=None, dual=True, fit_intercept=True,\n",
       "     intercept_scaling=1, loss='squared_hinge', max_iter=1000,\n",
       "     multi_class='ovr', penalty='l2', random_state=None, tol=0.0001,\n",
       "     verbose=0)"
      ]
     },
     "execution_count": 583,
     "metadata": {},
     "output_type": "execute_result"
    }
   ],
   "source": [
    "logistic_evolution_clf = LinearSVC()\n",
    "logistic_evolution_clf.fit(test_evolution, y_test)"
   ]
  },
  {
   "cell_type": "code",
   "execution_count": 577,
   "metadata": {},
   "outputs": [
    {
     "data": {
      "text/plain": [
       "0.5"
      ]
     },
     "execution_count": 577,
     "metadata": {},
     "output_type": "execute_result"
    }
   ],
   "source": [
    "(logistic_evolution_clf.predict(train_evolution) == y_train).mean()"
   ]
  },
  {
   "cell_type": "markdown",
   "metadata": {},
   "source": [
    "## LDA pre-analysis"
   ]
  },
  {
   "cell_type": "code",
   "execution_count": 889,
   "metadata": {},
   "outputs": [
    {
     "data": {
      "text/plain": [
       "MiniBatchSparsePCA(alpha=1, batch_size=3, callback=None, method='lars',\n",
       "          n_components=5, n_iter=100, n_jobs=-1, random_state=None,\n",
       "          ridge_alpha=0.01, shuffle=True, verbose=False)"
      ]
     },
     "execution_count": 889,
     "metadata": {},
     "output_type": "execute_result"
    }
   ],
   "source": [
    "lda = MiniBatchSparsePCA(5, n_jobs=-1) #LDA didn't provided good results\n",
    "lda.fit(list(positives_txt_count.toarray()) + list(negatives_txt_count.toarray()))"
   ]
  },
  {
   "cell_type": "code",
   "execution_count": 891,
   "metadata": {},
   "outputs": [],
   "source": [
    "positive_topics = lda.transform(positives_txt_count.toarray())\n",
    "negative_topics = lda.transform(negatives_txt_count.toarray())\n",
    "submission_topics = lda.transform(submission_txt_counts.toarray())"
   ]
  },
  {
   "cell_type": "code",
   "execution_count": 892,
   "metadata": {},
   "outputs": [],
   "source": [
    "shuffle(list(positive_topics))\n",
    "shuffle(list(negative_topics))\n",
    "\n",
    "x_train_lda = list(positive_topics[:800]) + list(negative_topics[:800])\n",
    "x_test_lda  = list(positive_topics[800:]) + list(negative_topics[800:])\n",
    "\n",
    "training_data_lda = list(zip(x_train_lda, [1] * 800 + [0] * 800))\n",
    "testing_data_lda  = list(zip(x_test_lda,  [1] * 200 + [0] * 200))\n",
    "\n",
    "x_train_lda, y_train_lda  = zip(*training_data_lda)\n",
    "x_test_lda,  y_test_lda   = zip(*testing_data_lda)"
   ]
  },
  {
   "cell_type": "code",
   "execution_count": 893,
   "metadata": {},
   "outputs": [
    {
     "data": {
      "text/plain": [
       "LinearSVC(C=5, class_weight=None, dual=True, fit_intercept=True,\n",
       "     intercept_scaling=1, loss='squared_hinge', max_iter=1000,\n",
       "     multi_class='ovr', penalty='l2', random_state=None, tol=0.0001,\n",
       "     verbose=0)"
      ]
     },
     "execution_count": 893,
     "metadata": {},
     "output_type": "execute_result"
    }
   ],
   "source": [
    "logistic_lda_clf = LinearSVC(C=5)\n",
    "logistic_lda_clf.fit(x_train_lda, y_train_lda)"
   ]
  },
  {
   "cell_type": "code",
   "execution_count": 894,
   "metadata": {},
   "outputs": [
    {
     "data": {
      "text/plain": [
       "0.575"
      ]
     },
     "execution_count": 894,
     "metadata": {},
     "output_type": "execute_result"
    }
   ],
   "source": [
    "(logistic_lda_clf.predict(x_test_lda) == y_test_lda).mean()"
   ]
  },
  {
   "cell_type": "code",
   "execution_count": 896,
   "metadata": {},
   "outputs": [
    {
     "name": "stdout",
     "output_type": "stream",
     "text": [
      "['00', 'pierson', 'piers', 'pierrot', 'pierre']\n",
      "['00', 'pierced', 'pierce', 'pier', 'piena']\n",
      "['00', 'piero', 'piering', 'piere', 'piercings']\n",
      "['00', 'piers', 'pierrot', 'pierre', 'pierpont']\n",
      "['00', 'piero', 'piering', 'piere', 'piercings']\n"
     ]
    }
   ],
   "source": [
    "#vizualize most important words by cluster\n",
    "for i in range(lda.components_.shape[0]):\n",
    "    print(list(np.array(count_vect.get_feature_names())[np.array(abs(lda.components_[i]).argsort()[:5])]))"
   ]
  },
  {
   "cell_type": "markdown",
   "metadata": {},
   "source": [
    "### Make one classifier by LDA cluster\n",
    "\n",
    "___TODO ...___"
   ]
  },
  {
   "cell_type": "code",
   "execution_count": 920,
   "metadata": {},
   "outputs": [],
   "source": [
    "def get_classifier(x_train_lda, cluster_id):\n",
    "    x_train = np.array(x_train_lda)[np.where(np.array(x_train_lda).argmax(1) == cluster_id)]\n",
    "    y_train = np.array(y_train_lda)[np.where(np.array(x_train_lda).argmax(1) == cluster_id)]\n",
    "    clf = LogisticRegression(C=10)\n",
    "    clf.fit(x_train, y_train)\n",
    "    return clf"
   ]
  },
  {
   "cell_type": "code",
   "execution_count": 921,
   "metadata": {},
   "outputs": [],
   "source": [
    "clfs_lda = [get_classifier(x_train_lda, i) for i in range(5)]"
   ]
  },
  {
   "cell_type": "code",
   "execution_count": 922,
   "metadata": {},
   "outputs": [],
   "source": [
    "preds = np.array([clfs_lda[c].predict([r]) for c, r in zip(np.array(x_test_lda).argmax(1), x_test_lda)]).T[0]"
   ]
  },
  {
   "cell_type": "code",
   "execution_count": 923,
   "metadata": {},
   "outputs": [
    {
     "data": {
      "text/plain": [
       "0.5025"
      ]
     },
     "execution_count": 923,
     "metadata": {},
     "output_type": "execute_result"
    }
   ],
   "source": [
    "(preds == y_test_lda).mean()"
   ]
  },
  {
   "cell_type": "markdown",
   "metadata": {},
   "source": [
    "## Make Solution"
   ]
  },
  {
   "cell_type": "code",
   "execution_count": 228,
   "metadata": {},
   "outputs": [],
   "source": [
    "out = map(lambda v: 'M' if v else 'C', logistic_clf.predict(submission_txt_tfidf))"
   ]
  },
  {
   "cell_type": "code",
   "execution_count": 229,
   "metadata": {},
   "outputs": [],
   "source": [
    "f = open(\"out_sentiment.txt\", 'w')\n",
    "f.write('\\n'.join(out) + '\\n')\n",
    "f.close()"
   ]
  },
  {
   "cell_type": "code",
   "execution_count": 194,
   "metadata": {},
   "outputs": [
    {
     "data": {
      "text/plain": [
       "['00',\n",
       " '000',\n",
       " '0000000000001',\n",
       " '00001',\n",
       " '00015',\n",
       " '000s',\n",
       " '001',\n",
       " '007',\n",
       " '0093638',\n",
       " '00am',\n",
       " '00pm',\n",
       " '00s',\n",
       " '01',\n",
       " '01pm',\n",
       " '02',\n",
       " '020410',\n",
       " '03',\n",
       " '04',\n",
       " '05',\n",
       " '050',\n",
       " '06',\n",
       " '07',\n",
       " '08',\n",
       " '089',\n",
       " '09',\n",
       " '10',\n",
       " '100',\n",
       " '1000',\n",
       " '1000000',\n",
       " '1000lb',\n",
       " '1000s',\n",
       " '1001',\n",
       " '1005_note',\n",
       " '100b',\n",
       " '100k',\n",
       " '100m',\n",
       " '100min',\n",
       " '100mph',\n",
       " '100s',\n",
       " '100th',\n",
       " '100x',\n",
       " '100yards',\n",
       " '101',\n",
       " '101st',\n",
       " '102',\n",
       " '102nd',\n",
       " '103',\n",
       " '104',\n",
       " '1040',\n",
       " '1040a',\n",
       " '1040s',\n",
       " '105',\n",
       " '1050',\n",
       " '105lbs',\n",
       " '106',\n",
       " '106min',\n",
       " '107',\n",
       " '108',\n",
       " '109',\n",
       " '10_note',\n",
       " '10am',\n",
       " '10lines',\n",
       " '10mil',\n",
       " '10min',\n",
       " '10minutes',\n",
       " '10p',\n",
       " '10pm',\n",
       " '10s',\n",
       " '10star',\n",
       " '10th',\n",
       " '10x',\n",
       " '10yr',\n",
       " '11',\n",
       " '110',\n",
       " '1100',\n",
       " '11001001',\n",
       " '1100ad',\n",
       " '111',\n",
       " '112',\n",
       " '1138',\n",
       " '114',\n",
       " '1146',\n",
       " '115',\n",
       " '116',\n",
       " '117',\n",
       " '11_note',\n",
       " '11f',\n",
       " '11m',\n",
       " '11th',\n",
       " '12',\n",
       " '120',\n",
       " '1200',\n",
       " '1200f',\n",
       " '1201',\n",
       " '1202',\n",
       " '123',\n",
       " '12383499143743701',\n",
       " '125',\n",
       " '125m',\n",
       " '127']"
      ]
     },
     "execution_count": 194,
     "metadata": {},
     "output_type": "execute_result"
    }
   ],
   "source": [
    "count_vect.get_feature_names()[:100]"
   ]
  },
  {
   "cell_type": "code",
   "execution_count": null,
   "metadata": {},
   "outputs": [],
   "source": []
  }
 ],
 "metadata": {
  "kernelspec": {
   "display_name": "Python 3",
   "language": "python",
   "name": "python3"
  },
  "language_info": {
   "codemirror_mode": {
    "name": "ipython",
    "version": 3
   },
   "file_extension": ".py",
   "mimetype": "text/x-python",
   "name": "python",
   "nbconvert_exporter": "python",
   "pygments_lexer": "ipython3",
   "version": "3.6.4"
  }
 },
 "nbformat": 4,
 "nbformat_minor": 2
}

{
 "cells": [
  {
   "cell_type": "markdown",
   "metadata": {},
   "source": [
    "# Are some features responsibles for encoding synonymy ?"
   ]
  },
  {
   "cell_type": "code",
   "execution_count": 1,
   "metadata": {},
   "outputs": [
    {
     "name": "stdout",
     "output_type": "stream",
     "text": [
      "[nltk_data] Error loading wordnet: <urlopen error [Errno 8] nodename\n",
      "[nltk_data]     nor servname provided, or not known>\n"
     ]
    },
    {
     "data": {
      "text/plain": [
       "False"
      ]
     },
     "execution_count": 1,
     "metadata": {},
     "output_type": "execute_result"
    }
   ],
   "source": [
    "import sklearn\n",
    "\n",
    "from sklearn.svm import LinearSVC\n",
    "from sklearn.tree import DecisionTreeClassifier\n",
    "from sklearn.linear_model import LogisticRegression\n",
    "\n",
    "import graphviz\n",
    "import numpy as np\n",
    "import matplotlib.pyplot as plt\n",
    "\n",
    "from tqdm import tqdm, trange\n",
    "from random import shuffle\n",
    "\n",
    "import gensim\n",
    "\n",
    "from gensim.models import KeyedVectors\n",
    "\n",
    "import nltk\n",
    "\n",
    "from nltk.corpus import wordnet as wn\n",
    "\n",
    "nltk.download('wordnet')"
   ]
  },
  {
   "cell_type": "code",
   "execution_count": 2,
   "metadata": {},
   "outputs": [],
   "source": [
    "#get infos in wordnet\n",
    "def get_wornet_synonyms_hypernyms(noun, words_filter=None):\n",
    "    \"\"\"Return le list of hypernyms and hyponyms of a word from wordvec.\n",
    "    \n",
    "    :param noun: the noun to find some synonyms\n",
    "    :param words_filter: a list, if not None, return only words contained in this list\n",
    "\n",
    "    :type noun: str\n",
    "    :type words_filter: list(str)\n",
    "\n",
    "    :return: a list of synonyms \n",
    "    :rtype: list(str)\n",
    "    \"\"\"\n",
    "    try:\n",
    "        hypernyms = wn.synsets(noun)[0].hypernyms()[0].lemma_names() #NB: on ne prend que le premier\n",
    "    except:\n",
    "        hypernyms = []\n",
    "    try:\n",
    "        hyponyms = wn.synsets(noun)[0].hyponyms()[0].lemma_names() #NB: on ne prend que le premier\n",
    "    except:\n",
    "        hyponyms = []\n",
    "    if words_filter:\n",
    "        out = []\n",
    "        for w in hypernyms + hyponyms:\n",
    "            if w in words_filter:\n",
    "                out.append(w)\n",
    "        return out\n",
    "    return hypernyms + hyponyms\n",
    "\n",
    "def get_wornet_synonyms(noun, words_filter=None):\n",
    "    \"\"\"Return le list of synonyms of a word from wordvec.\n",
    "    \n",
    "    :param noun: the noun to find some synonyms\n",
    "    :param words_filter: a list, if not None, return only words contained in this list\n",
    "\n",
    "    :type noun: str\n",
    "    :type words_filter: list(str)\n",
    "\n",
    "    :return: a list of synonyms \n",
    "    :rtype: list(str)\n",
    "    \"\"\"\n",
    "    try:\n",
    "        w = []\n",
    "        for sn in wn.synsets(noun): \n",
    "            #TODO: check if the synset is a nouns synset and not verbs \n",
    "            #DONE: si on passe les mots qui sont des nomns seulemnt dans words_filter\n",
    "            w.extend(sn.lemma_names())\n",
    "    except:\n",
    "        w = []\n",
    "    w = list(set(w))\n",
    "    return list(filter(lambda s: s in words_filter, w)) if words_filter else w\n",
    "\n",
    "\n",
    "\n",
    "def similar_word2vec_words(word_vectors, noun, words_filter=None, n=10):\n",
    "    \"\"\"Return a list of the `n` most similar words from word2vec.\n",
    "    \n",
    "    :param word_vectors: the gensim word2vec model\n",
    "    :param noun: the noun to find some similar words\n",
    "    :param words_filter: a list, if not None, return only words contained in this list\n",
    "    :param n: only return this number of words (max)\n",
    "\n",
    "    :type word_vectors: gensim.models.keyedvectors.Word2VecKeyedVector\n",
    "    :type noun: str\n",
    "    :type words_filter: list(str)\n",
    "    :type n: int\n",
    "    \n",
    "    :return: a list of similar meaning words\n",
    "    :rtype: list(str)\n",
    "    \"\"\"\n",
    "    tmp = list(list(zip(*word_vectors.similar_by_word(noun, n)))[0])\n",
    "    if not words_filter:\n",
    "        return tmp\n",
    "    return list(filter(lambda s: s in words_filter, tmp))\n",
    "\n",
    "def get_positive_and_negatives_synonyms_pairs(word_vectors, noun, words_filter=None, n=20):\n",
    "    \"\"\"Return 2 lists containing the synonyms int the first, \n",
    "    and similiars words in the second.\n",
    "    \n",
    "    :param word_vectors: the gensim word2vec model\n",
    "    :param noun: the noun to find some similar words\n",
    "    :param words_filter: a list, if not None, return only words contained in this list\n",
    "    :param n: only return this number of words (max)\n",
    "    \n",
    "    :type word_vectors: gensim.models.keyedvectors.Word2VecKeyedVector\n",
    "    :type noun: str\n",
    "    :type words_filter: list(str)\n",
    "    :type n: int\n",
    "    \n",
    "    :return: a tuple containg 2 lists: ([synonyms], [similars])\n",
    "    :rtype: tuple(list(str), list(str))\n",
    "    \"\"\"\n",
    "    synonyms = get_wornet_synonyms(noun, words_filter=words_filter)\n",
    "    similars = similar_word2vec_words(word_vectors, noun, words_filter=words_filter)\n",
    "    not_synonyms = list(filter(lambda s: not s in synonyms, similars))\n",
    "    return synonyms, not_synonyms\n",
    "\n",
    "#list all word2vec nouns exploitables\n",
    "def is_exploitable(s):\n",
    "    \"\"\"not accept urls, names, patterns and weird stuffs... \n",
    "    AND is in wordnet database !!\"\"\"\n",
    "    if s != s.lower():\n",
    "        return False\n",
    "    for c in '._+#/@':\n",
    "        if c in s:\n",
    "            return False\n",
    "    #simple heuristic: remove all words ending with 's' to get only singular nouns\n",
    "    if s[-1] == 's':\n",
    "        return False\n",
    "    if s.isalpha():\n",
    "        return wn.synsets(s) != [] #check if is in wordnnet databse\n"
   ]
  },
  {
   "cell_type": "code",
   "execution_count": 3,
   "metadata": {},
   "outputs": [],
   "source": [
    "try:\n",
    "    positives = np.load(\"positives.npy\")\n",
    "    negatives = np.load(\"negatives.npy\")\n",
    "except:\n",
    "    print(\"* load word2vec pretrained from google\")\n",
    "    word_vectors = KeyedVectors.load_word2vec_format(\"GoogleNews-vectors-negative300.bin\", binary=True)\n",
    "\n",
    "    print(\"* load nouns\")\n",
    "\n",
    "    print(\" - list all wordnet nouns\")\n",
    "    wordnet_nouns = {x.name().split('.', 1)[0] for x in wn.all_synsets('n')}\n",
    "\n",
    "    print(\" - build a list of exploitable words\")\n",
    "    words = list(filter(is_exploitable, word_vectors.index2word))\n",
    "    words = list(filter(lambda s: s in wordnet_nouns, words))\n",
    "\n",
    "    #example\n",
    "    synonyms, not_synonyms = get_positive_and_negatives_synonyms_pairs(word_vectors, \"dog\", words)\n",
    "\n",
    "    print(\"* build a dataset of synonyms / not synonyms\")\n",
    "    positives = []\n",
    "    negatives = []\n",
    "\n",
    "    allready_seen_words = [] #allow us to remove some simple duplicates\n",
    "\n",
    "    shuffle(words)\n",
    "\n",
    "    nb_max_words = len(words)\n",
    "\n",
    "    print(\" - build pairs\")\n",
    "    for word in tqdm(words[:nb_max_words]):\n",
    "        if word in allready_seen_words:\n",
    "            continue\n",
    "        allready_seen_words.append(word)\n",
    "        pos, neg = get_positive_and_negatives_synonyms_pairs(word_vectors, word, words)\n",
    "        for p in pos:\n",
    "            positives.append((word, p))\n",
    "        for n in neg:\n",
    "            negatives.append((word, n))\n",
    "\n",
    "    np.save(\"positives\", np.array(positives))\n",
    "    np.save(\"negatives\", np.array(negatives))\n",
    "\n",
    "positives = list(positives)\n",
    "negatives = list(negatives)\n",
    "\n",
    "shuffle(positives)\n",
    "shuffle(negatives)\n",
    "\n",
    "positives = np.array(positives)\n",
    "negatives = np.array(negatives)"
   ]
  },
  {
   "cell_type": "code",
   "execution_count": 4,
   "metadata": {},
   "outputs": [
    {
     "data": {
      "text/plain": [
       "(array([['nursing', 'nursing'],\n",
       "        ['much', 'much'],\n",
       "        ['vitrification', 'vitrification'],\n",
       "        ...,\n",
       "        ['hallelujah', 'hallelujah'],\n",
       "        ['extrusion', 'excrescence'],\n",
       "        ['serration', 'serration']], dtype='<U31'),\n",
       " array([['plagiocephaly', 'myelomeningocele'],\n",
       "        ['chauvinism', 'provincialism'],\n",
       "        ['planner', 'accountant'],\n",
       "        ...,\n",
       "        ['icecap', 'glacier'],\n",
       "        ['mystique', 'allure'],\n",
       "        ['hitler', 'hillary']], dtype='<U29'))"
      ]
     },
     "execution_count": 4,
     "metadata": {},
     "output_type": "execute_result"
    }
   ],
   "source": [
    "positives, negatives"
   ]
  },
  {
   "cell_type": "code",
   "execution_count": 5,
   "metadata": {},
   "outputs": [],
   "source": [
    "try:\n",
    "    positive_embedings = np.load(\"positive_embedings.npy\")\n",
    "    negative_embedings = np.load(\"negative_embedings.npy\")\n",
    "except:\n",
    "    print(\" - compute embedings\")\n",
    "    positive_embedings = np.array(list(map(\n",
    "        lambda c: [word_vectors.word_vec(c[0]), word_vectors.word_vec(c[1])], \n",
    "        positives\n",
    "    )))\n",
    "\n",
    "    negative_embedings = np.array(list(map(\n",
    "        lambda c: [word_vectors.word_vec(c[0]), word_vectors.word_vec(c[1])], \n",
    "        negatives\n",
    "    )))\n",
    "    \n",
    "    np.save(\"positive_embedings\", positive_embedings)\n",
    "    np.save(\"negative_embedings\", negative_embedings)\n",
    "\n",
    "positive_embedings = list(positive_embedings)\n",
    "negative_embedings = list(negative_embedings)\n",
    "\n",
    "shuffle(positive_embedings)\n",
    "shuffle(negative_embedings)\n",
    "\n",
    "positive_embedings = np.array(positive_embedings)\n",
    "negative_embedings = np.array(negative_embedings)"
   ]
  },
  {
   "cell_type": "code",
   "execution_count": 6,
   "metadata": {},
   "outputs": [],
   "source": [
    "#keep the same number of positive vs negatives\n",
    "nb_max_rows = min(len(positives), len(negatives))\n",
    "\n",
    "positive_train = positive_embedings[:int(nb_max_rows * .8)]\n",
    "positive_test  = positive_embedings[int(nb_max_rows * .8):nb_max_rows]\n",
    "\n",
    "negative_train = negative_embedings[:int(nb_max_rows * .8)]\n",
    "negative_test  = negative_embedings[int(nb_max_rows * .8):nb_max_rows]"
   ]
  },
  {
   "cell_type": "code",
   "execution_count": 7,
   "metadata": {},
   "outputs": [
    {
     "name": "stdout",
     "output_type": "stream",
     "text": [
      " - split dataset in training/test sets\n"
     ]
    }
   ],
   "source": [
    "print(\" - split dataset in training/test sets\")\n",
    "x_train = np.array(list(positive_train) + list(negative_train))\n",
    "y_train = np.array([0] * len(positive_train) + [1] * len(negative_train)) #0 means synonym\n",
    "\n",
    "x_test = np.array(list(positive_test) + list(negative_test))\n",
    "y_test = np.array([0] * len(positive_test) + [1] * len(negative_test))"
   ]
  },
  {
   "cell_type": "code",
   "execution_count": 8,
   "metadata": {},
   "outputs": [
    {
     "name": "stdout",
     "output_type": "stream",
     "text": [
      " - augment the dataset by adding the symetry\n"
     ]
    }
   ],
   "source": [
    "print(\" - augment the dataset by adding the symetry\")\n",
    "#adding a symetry to the dataset let us to augment data for free \n",
    "#and remove some noise (the anchor words is not allways on the same side...)\n",
    "build_symetry = lambda x_set : np.array([x_set[:, 0, :], x_set[:, 1, :]]).swapaxes(0, 1)\n",
    "\n",
    "assert (build_symetry(build_symetry(x_train)) == x_train).mean() == 1. #check the axis stuff\n",
    "\n",
    "x_train = np.array(list(x_train) + list(build_symetry(x_train)))\n",
    "x_test  = np.array(list(x_test)  + list(build_symetry(x_test)))\n",
    "\n",
    "y_train = np.array(list(y_train) + list(y_train))\n",
    "y_test  = np.array(list(y_test)  + list(y_test))"
   ]
  },
  {
   "cell_type": "code",
   "execution_count": 9,
   "metadata": {},
   "outputs": [
    {
     "name": "stderr",
     "output_type": "stream",
     "text": [
      "  0%|          | 0/131104 [00:00<?, ?it/s]"
     ]
    },
    {
     "name": "stdout",
     "output_type": "stream",
     "text": [
      " - difference\n",
      " - cosine 'difference'\n"
     ]
    },
    {
     "name": "stderr",
     "output_type": "stream",
     "text": [
      "100%|██████████| 131104/131104 [00:05<00:00, 24330.18it/s]\n",
      "100%|██████████| 32776/32776 [00:01<00:00, 27915.40it/s]\n"
     ]
    }
   ],
   "source": [
    "print(\" - difference\")\n",
    "#substract w1 - w2 to get a difference of words to find if there is a dimension which encode synonymy\n",
    "x_train_method_1 = x_train[:, 0, :] - x_train[:, 1, :]\n",
    "x_test_method_1  = x_test[:, 0, :]  - x_test[:, 1, :]\n",
    "\n",
    "\n",
    "print(\" - cosine 'difference'\")\n",
    "\n",
    "#build a difference function inspired by the cosine distance\n",
    "def diff(a, b):\n",
    "    c = a * b\n",
    "    norm_a = np.linalg.norm(a)\n",
    "    norm_b = np.linalg.norm(b)\n",
    "    return c / (norm_a * norm_b)\n",
    "\n",
    "L = []\n",
    "for i in trange(x_train.shape[0]):\n",
    "    L.append(diff(x_train[i, 0, :], x_train[i, 1, :]))\n",
    "x_train_method_2 = np.array(L)\n",
    "\n",
    "L = []\n",
    "for i in trange(x_test.shape[0]):\n",
    "    L.append(diff(x_test[i, 0, :], x_test[i, 1, :]))\n",
    "x_test_method_2 = np.array(L)"
   ]
  },
  {
   "cell_type": "code",
   "execution_count": 11,
   "metadata": {},
   "outputs": [
    {
     "name": "stdout",
     "output_type": "stream",
     "text": [
      " - shuffle data\n"
     ]
    }
   ],
   "source": [
    "print(\" - shuffle data\")\n",
    "\n",
    "#for method 1\n",
    "data_train_method_1 = list(zip(x_train_method_1, y_train))\n",
    "data_test_method_1  = list(zip(x_test_method_1,  y_test))\n",
    "\n",
    "shuffle(data_train_method_1)\n",
    "shuffle(data_test_method_1)\n",
    "\n",
    "x_train_method_1, y_train_method_1 = list(zip(*data_train_method_1))\n",
    "x_test_method_1,  y_test_method_1  = list(zip(*data_test_method_1))\n",
    "\n",
    "x_train_method_1 = np.array(x_train_method_1)\n",
    "y_train_method_1 = np.array(y_train_method_1)\n",
    "x_test_method_1  = np.array(x_test_method_1)\n",
    "y_test_method_1  = np.array(y_test_method_1)\n",
    "\n",
    "#for method 2\n",
    "data_train_method_2 = list(zip(x_train_method_2, y_train))\n",
    "data_test_method_2  = list(zip(x_test_method_2,  y_test))\n",
    "\n",
    "shuffle(data_train_method_2)\n",
    "shuffle(data_test_method_2)\n",
    "\n",
    "x_train_method_2, y_train_method_2 = list(zip(*data_train_method_2))\n",
    "x_test_method_2,  y_test_method_2  = list(zip(*data_test_method_2))\n",
    "\n",
    "x_train_method_2 = np.array(x_train_method_2)\n",
    "y_train_method_2 = np.array(y_train_method_2)\n",
    "x_test_method_2  = np.array(x_test_method_2)\n",
    "y_test_method_2  = np.array(y_test_method_2)"
   ]
  },
  {
   "cell_type": "markdown",
   "metadata": {},
   "source": [
    "## Train models and look what they learnt"
   ]
  },
  {
   "cell_type": "code",
   "execution_count": 12,
   "metadata": {},
   "outputs": [],
   "source": [
    "#normalize features\n",
    "mean_method_1, std_method_1 = x_train_method_1.mean(0), x_train_method_1.std(0)\n",
    "x_train_method_1 = (x_train_method_1 - mean_method_1) / std_method_1\n",
    "x_test_method_1  = (x_test_method_1  - mean_method_1) / std_method_1\n",
    "\n",
    "mean_method_2, std_method_2 = x_train_method_2.mean(0), x_train_method_2.std(0)\n",
    "x_train_method_2 = (x_train_method_2 - mean_method_2) / std_method_2\n",
    "x_test_method_2  = (x_test_method_2  - mean_method_2) / std_method_2\n"
   ]
  },
  {
   "cell_type": "code",
   "execution_count": 16,
   "metadata": {},
   "outputs": [
    {
     "name": "stdout",
     "output_type": "stream",
     "text": [
      "training linear model\n",
      "synonyms calssification accuracy (method 1):  66.86599951183793  %\n",
      "synonyms calssification accuracy (method 2):  67.37856968513547  %\n"
     ]
    }
   ],
   "source": [
    "print(\"training linear model\")\n",
    "\n",
    "#method 1\n",
    "logistic_regression_method_1 = LogisticRegression(penalty='l1', C=0.05)\n",
    "logistic_regression_method_1.fit(x_train_method_1, y_train_method_1)\n",
    "\n",
    "acc_method_1 = (logistic_regression_method_1.predict(x_test_method_1) == y_test_method_1).mean()\n",
    "print(\"synonyms calssification accuracy (method 1): \", acc_method_1 * 100, \" %\")\n",
    "\n",
    "#method 2\n",
    "logistic_regression_method_2 = LogisticRegression(penalty='l1', C=0.05)\n",
    "logistic_regression_method_2.fit(x_train_method_2, y_train_method_2)\n",
    "\n",
    "acc_method_2 = (logistic_regression_method_2.predict(x_test_method_2) == y_test_method_2).mean()\n",
    "print(\"synonyms calssification accuracy (method 2): \", acc_method_2 * 100, \" %\")"
   ]
  },
  {
   "cell_type": "code",
   "execution_count": 18,
   "metadata": {},
   "outputs": [
    {
     "name": "stdout",
     "output_type": "stream",
     "text": [
      "10 most important features :  [150 288 126  55  74 233 170  87 198 118]\n"
     ]
    },
    {
     "data": {
      "image/png": "[encoded data removed]",
      "text/plain": [
       "<matplotlib.figure.Figure at 0x10cfa5a20>"
      ]
     },
     "metadata": {},
     "output_type": "display_data"
    }
   ],
   "source": [
    "coefs = logistic_regression_method_1.coef_[0]\n",
    "\n",
    "plt.title(\"Features Importance (method 1)\")\n",
    "plt.plot(abs(coefs))\n",
    "plt.plot(coefs)\n",
    "\n",
    "print(\"10 most important features : \", abs(coefs).argsort()[::-1][:10])\n",
    "\n",
    "#set a threshold\n",
    "t = abs(coefs)\n",
    "t = t.mean() + t.std() * 2\n",
    "plt.plot([t] * len(coefs))\n",
    "\n",
    "plt.show()"
   ]
  },
  {
   "cell_type": "code",
   "execution_count": 19,
   "metadata": {},
   "outputs": [
    {
     "name": "stdout",
     "output_type": "stream",
     "text": [
      "10 most important features :  [139 289 150 271   3   1 298  92 210 251]\n"
     ]
    },
    {
     "data": {
      "image/png": "[encoded data removed]",
      "text/plain": [
       "<matplotlib.figure.Figure at 0x10d154a20>"
      ]
     },
     "metadata": {},
     "output_type": "display_data"
    }
   ],
   "source": [
    "coefs = logistic_regression_method_2.coef_[0]\n",
    "\n",
    "plt.title(\"Features Importance (method 2)\")\n",
    "plt.plot(abs(coefs))\n",
    "plt.plot(coefs)\n",
    "\n",
    "print(\"10 most important features : \", abs(coefs).argsort()[::-1][:10])\n",
    "\n",
    "#set a threshold\n",
    "t = abs(coefs)\n",
    "t = t.mean() + t.std() * 2\n",
    "plt.plot([t] * len(coefs))\n",
    "\n",
    "plt.show()"
   ]
  },
  {
   "cell_type": "markdown",
   "metadata": {},
   "source": [
    "==> ___The 2 methods aggree on the importance of the feature `#150`...___\n"
   ]
  },
  {
   "cell_type": "code",
   "execution_count": 21,
   "metadata": {},
   "outputs": [
    {
     "name": "stdout",
     "output_type": "stream",
     "text": [
      "decision tree\n",
      "synonyms calssification accuracy (method 1):  72.85818891872101  %\n",
      "synonyms calssification accuracy (method 2):  58.18281669514279  %\n"
     ]
    }
   ],
   "source": [
    "print(\"decision tree\")\n",
    "\n",
    "#method 1\n",
    "dt_clf_method_1 = DecisionTreeClassifier(max_depth=3)\n",
    "dt_clf_method_1.fit(x_train_method_1, y_train_method_1)\n",
    "\n",
    "acc = (dt_clf_method_1.predict(x_test_method_1) == y_test_method_1).mean()\n",
    "print(\"synonyms calssification accuracy (method 1): \", acc * 100, \" %\")\n",
    "\n",
    "#method 2\n",
    "dt_clf_method_2 = DecisionTreeClassifier(max_depth=3)\n",
    "dt_clf_method_2.fit(x_train_method_2, y_train_method_2)\n",
    "\n",
    "acc = (dt_clf_method_2.predict(x_test_method_2) == y_test_method_2).mean()\n",
    "print(\"synonyms calssification accuracy (method 2): \", acc * 100, \" %\")"
   ]
  },
  {
   "cell_type": "code",
   "execution_count": 30,
   "metadata": {},
   "outputs": [
    {
     "name": "stdout",
     "output_type": "stream",
     "text": [
      "if ( f149 <= -0.024356726557016373 ) :\n",
      "    if ( f149 <= -0.02704571932554245 ) :\n",
      "        if ( f149 <= -1.482656478881836 ) :\n",
      "            return [[4926. 4250.]]\n",
      "        else \n",
      "            return [[13670. 26730.]]\n",
      "        \n",
      "    else \n",
      "        if ( f58 <= -0.024332841858267784 ) :\n",
      "            return [[22. 74.]]\n",
      "        else \n",
      "            return [[29136.    40.]]\n",
      "        \n",
      "    \n",
      "else \n",
      "    if ( f4 <= 1.57061767578125 ) :\n",
      "        if ( f93 <= 1.3512747287750244 ) :\n",
      "            return [[12832. 30122.]]\n",
      "        else \n",
      "            return [[2650. 2630.]]\n",
      "        \n",
      "    else \n",
      "        if ( f4 <= 2.1399245262145996 ) :\n",
      "            return [[1158. 1200.]]\n",
      "        else \n",
      "            return [[1158.  506.]]\n",
      "        \n",
      "    \n",
      "\n"
     ]
    }
   ],
   "source": [
    "def print_decision_tree(tree, feature_names=None, offset_unit='    '):\n",
    "    '''Plots textual representation of rules of a decision tree\n",
    "    tree: scikit-learn representation of tree\n",
    "    feature_names: list of feature names. They are set to f1,f2,f3,... if not specified\n",
    "    offset_unit: a string of offset of the conditional block'''\n",
    "\n",
    "    left      = tree.tree_.children_left\n",
    "    right     = tree.tree_.children_right\n",
    "    threshold = tree.tree_.threshold\n",
    "    value = tree.tree_.value\n",
    "    if feature_names is None:\n",
    "        features  = ['f%d'%i for i in tree.tree_.feature]\n",
    "    else:\n",
    "        features  = [feature_names[i] for i in tree.tree_.feature]        \n",
    "\n",
    "    def recurse(left, right, threshold, features, node, depth=0):\n",
    "            offset = offset_unit*depth\n",
    "            if (threshold[node] != -2):\n",
    "                    print(offset+\"if ( \" + features[node] + \" <= \" + str(threshold[node]) + \" ) :\")\n",
    "                    if left[node] != -1:\n",
    "                            recurse (left, right, threshold, features,left[node],depth+1)\n",
    "                    print(offset+\"else \")\n",
    "                    if right[node] != -1:\n",
    "                            recurse (left, right, threshold, features,right[node],depth+1)\n",
    "                    print(offset+\"\")\n",
    "            else:\n",
    "                    print(offset+\"return \" + str(value[node]))\n",
    "\n",
    "    recurse(left, right, threshold, features, 0,0)\n",
    "\n",
    "print_decision_tree(dt_clf_method_1)"
   ]
  },
  {
   "cell_type": "code",
   "execution_count": 25,
   "metadata": {},
   "outputs": [
    {
     "name": "stdout",
     "output_type": "stream",
     "text": [
      "feature\timportance\n",
      "149\t0.9474222737176119\n",
      "4\t0.027835250180013177\n",
      "93\t0.019151579967764766\n",
      "58\t0.005590896134610115\n"
     ]
    },
    {
     "name": "stderr",
     "output_type": "stream",
     "text": [
      "/usr/local/lib/python3.6/site-packages/ipykernel_launcher.py:10: RuntimeWarning: divide by zero encountered in log\n",
      "  # Remove the CWD from sys.path while we load stuff.\n"
     ]
    },
    {
     "data": {
      "image/png": "[encoded data removed]",
      "text/plain": [
       "<matplotlib.figure.Figure at 0x10d290780>"
      ]
     },
     "metadata": {},
     "output_type": "display_data"
    }
   ],
   "source": [
    "feature_importances = dt_clf_method_1.feature_importances_.argsort()[::-1]\n",
    "print(\"feature\\timportance\")\n",
    "for fi in feature_importances:\n",
    "    t = dt_clf_method_1.feature_importances_[fi]\n",
    "    if  t > 0:\n",
    "        print(str(fi) + \"\\t\" + str(t))\n",
    "    else:\n",
    "        break\n",
    "\n",
    "plt.plot(np.log(sorted(dt_clf_method_1.feature_importances_)[::-1]))\n",
    "plt.show()"
   ]
  },
  {
   "cell_type": "markdown",
   "metadata": {},
   "source": [
    "The decision tree was __73.34%__ accurate with the simple embeddings difference and now only __64.07%__ accurate... "
   ]
  },
  {
   "cell_type": "code",
   "execution_count": 34,
   "metadata": {},
   "outputs": [
    {
     "name": "stdout",
     "output_type": "stream",
     "text": [
      "      Iter       Train Loss   Remaining Time \n",
      "         1           1.3735           15.88s\n",
      "         2           1.3614           13.46s\n",
      "         3           1.3497           11.60s\n",
      "         4           1.3388            9.87s\n",
      "         5           1.3283            8.16s\n",
      "         6           1.3182            6.53s\n",
      "         7           1.3086            4.96s\n",
      "         8           1.2994            3.29s\n",
      "         9           1.2905            1.64s\n",
      "        10           1.2820            0.00s\n",
      "synonyms calssification accuracy (method 1):  69.15425921405907  %\n"
     ]
    }
   ],
   "source": [
    "from sklearn.ensemble import GradientBoostingClassifier\n",
    "\n",
    "gbc = GradientBoostingClassifier(n_estimators=10, max_depth=1, verbose=1)\n",
    "gbc.fit(x_train_method_1, y_train_method_1)\n",
    "\n",
    "acc = (gbc.predict(x_test_method_1) == y_test_method_1).mean()\n",
    "print(\"synonyms calssification accuracy (method 1): \", acc * 100, \" %\")\n"
   ]
  },
  {
   "cell_type": "code",
   "execution_count": 58,
   "metadata": {},
   "outputs": [
    {
     "data": {
      "text/plain": [
       "{74, 126, 150, 198, 233}"
      ]
     },
     "execution_count": 58,
     "metadata": {},
     "output_type": "execute_result"
    }
   ],
   "source": [
    "a = np.where(gbc.feature_importances_ > 0)[0]\n",
    "b = sorted([150, 288, 126, 55, 74, 233, 170,  87, 198, 118])# + [139, 289, 150, 271, 3, 1, 298, 92, 210, 251])\n",
    "\n",
    "a = set(a)\n",
    "b = set(b)\n",
    "\n",
    "a.intersection(b)"
   ]
  },
  {
   "cell_type": "code",
   "execution_count": null,
   "metadata": {},
   "outputs": [],
   "source": []
  },
  {
   "cell_type": "code",
   "execution_count": null,
   "metadata": {},
   "outputs": [],
   "source": []
  }
 ],
 "metadata": {
  "kernelspec": {
   "display_name": "Python 3",
   "language": "python",
   "name": "python3"
  },
  "language_info": {
   "codemirror_mode": {
    "name": "ipython",
    "version": 3
   },
   "file_extension": ".py",
   "mimetype": "text/x-python",
   "name": "python",
   "nbconvert_exporter": "python",
   "pygments_lexer": "ipython3",
   "version": "3.6.2"
  }
 },
 "nbformat": 4,
 "nbformat_minor": 2
}

{
 "cells": [
  {
   "cell_type": "markdown",
   "metadata": {},
   "source": [
    "# Counter Fitted Vector Eploration"
   ]
  },
  {
   "cell_type": "code",
   "execution_count": 34,
   "metadata": {},
   "outputs": [
    {
     "name": "stdout",
     "output_type": "stream",
     "text": [
      "[nltk_data] Downloading package wordnet to /Users/olivier/nltk_data...\n",
      "[nltk_data]   Package wordnet is already up-to-date!\n"
     ]
    },
    {
     "data": {
      "text/plain": [
       "True"
      ]
     },
     "execution_count": 34,
     "metadata": {},
     "output_type": "execute_result"
    }
   ],
   "source": [
    "import random\n",
    "\n",
    "from tqdm import tqdm, trange\n",
    "\n",
    "import sklearn\n",
    "\n",
    "from sklearn.svm import LinearSVC\n",
    "from sklearn.tree import DecisionTreeClassifier\n",
    "from sklearn.linear_model import LogisticRegression\n",
    "\n",
    "import graphviz\n",
    "import numpy as np\n",
    "import matplotlib.pyplot as plt\n",
    "\n",
    "from tqdm import tqdm, trange\n",
    "from random import shuffle\n",
    "\n",
    "import gensim\n",
    "\n",
    "from gensim.models import KeyedVectors\n",
    "\n",
    "import nltk\n",
    "\n",
    "from nltk.corpus import wordnet as wn\n",
    "\n",
    "nltk.download('wordnet')"
   ]
  },
  {
   "cell_type": "code",
   "execution_count": 6,
   "metadata": {},
   "outputs": [],
   "source": [
    "#load the vectors\n",
    "f = open(\"counter-fitted-vectors.txt\", 'r')\n",
    "L = f.readlines()\n",
    "f.close()\n",
    "\n",
    "L = np.array(list(map(lambda s: s.split(), L)))"
   ]
  },
  {
   "cell_type": "code",
   "execution_count": 11,
   "metadata": {},
   "outputs": [],
   "source": [
    "vectors = np.array(L[:, 1:], dtype=float)"
   ]
  },
  {
   "cell_type": "code",
   "execution_count": 16,
   "metadata": {},
   "outputs": [],
   "source": [
    "words = L[:, 0]"
   ]
  },
  {
   "cell_type": "code",
   "execution_count": 18,
   "metadata": {},
   "outputs": [],
   "source": [
    "#load the synonym base\n",
    "f = open(\"ppdb_synonyms.txt\", 'r')\n",
    "L = f.readlines()\n",
    "f.close()"
   ]
  },
  {
   "cell_type": "code",
   "execution_count": 22,
   "metadata": {},
   "outputs": [],
   "source": [
    "synonyms = np.array(list(map(lambda s: s.split(), L)))"
   ]
  },
  {
   "cell_type": "code",
   "execution_count": 24,
   "metadata": {},
   "outputs": [],
   "source": [
    "#load the antonyms base\n",
    "f = open(\"ppdb_antonyms.txt\", 'r')\n",
    "L = f.readlines()\n",
    "f.close()"
   ]
  },
  {
   "cell_type": "code",
   "execution_count": 25,
   "metadata": {},
   "outputs": [],
   "source": [
    "antonyms = np.array(list(map(lambda s: s.split(), L)))"
   ]
  },
  {
   "cell_type": "code",
   "execution_count": 26,
   "metadata": {},
   "outputs": [],
   "source": [
    "#try to make a classifier for synonymy\n",
    "NB_SAMPLES = 1000"
   ]
  },
  {
   "cell_type": "code",
   "execution_count": 31,
   "metadata": {},
   "outputs": [],
   "source": [
    "def word2ebd(w):\n",
    "    return vectors[list(words).index(w)]\n",
    "\n",
    "def words_ebd_diff(w1, w2):\n",
    "    return word2ebd(w1) - word2ebd(w2)"
   ]
  },
  {
   "cell_type": "code",
   "execution_count": 33,
   "metadata": {},
   "outputs": [],
   "source": [
    "positives = []\n",
    "for i in trange(NB_SAMPLES):\n",
    "    try:\n",
    "        positives.append(words_ebd_diff(*random.choice(synonyms)))\n",
    "    except:\n",
    "        pass"
   ]
  },
  {
   "cell_type": "code",
   "execution_count": 36,
   "metadata": {},
   "outputs": [
    {
     "name": "stderr",
     "output_type": "stream",
     "text": [
      "100%|██████████| 1000/1000 [01:30<00:00, 11.44it/s]\n"
     ]
    }
   ],
   "source": [
    "negatives = []\n",
    "for i in trange(NB_SAMPLES):\n",
    "    try:\n",
    "        negatives.append(words_ebd_diff(*random.choice(antonyms)))\n",
    "    except:\n",
    "        pass"
   ]
  },
  {
   "cell_type": "code",
   "execution_count": 38,
   "metadata": {},
   "outputs": [],
   "source": [
    "positives = positives[:min(len(positives), len(negatives))]\n",
    "negatives = negatives[:len(positives)]"
   ]
  },
  {
   "cell_type": "code",
   "execution_count": 39,
   "metadata": {},
   "outputs": [],
   "source": [
    "train_pos = positives[:int(len(positives) * .8)]\n",
    "train_neg = negatives[:int(len(negatives) * .8)]\n",
    "\n",
    "test_pos = positives[int(len(positives) * .8):]\n",
    "test_neg = negatives[int(len(negatives) * .8):]"
   ]
  },
  {
   "cell_type": "code",
   "execution_count": 45,
   "metadata": {},
   "outputs": [
    {
     "data": {
      "text/plain": [
       "LogisticRegression(C=1.0, class_weight=None, dual=False, fit_intercept=True,\n",
       "          intercept_scaling=1, max_iter=100, multi_class='ovr', n_jobs=1,\n",
       "          penalty='l2', random_state=None, solver='liblinear', tol=0.0001,\n",
       "          verbose=0, warm_start=False)"
      ]
     },
     "execution_count": 45,
     "metadata": {},
     "output_type": "execute_result"
    }
   ],
   "source": [
    "clf = LogisticRegression()\n",
    "clf.fit(train_pos + train_neg, [1] * len(train_pos) + [0] * len(train_neg))"
   ]
  },
  {
   "cell_type": "code",
   "execution_count": 46,
   "metadata": {},
   "outputs": [],
   "source": [
    "preds = clf.predict(test_pos + test_neg)"
   ]
  },
  {
   "cell_type": "code",
   "execution_count": 52,
   "metadata": {},
   "outputs": [
    {
     "name": "stdout",
     "output_type": "stream",
     "text": [
      "accuracy  0.651595744680851\n"
     ]
    }
   ],
   "source": [
    "print(\n",
    "    \"accuracy \",\n",
    "    (np.array(preds) == np.array([1] * len(test_pos) + [0] * len(test_neg))).mean()\n",
    ")"
   ]
  },
  {
   "cell_type": "code",
   "execution_count": 57,
   "metadata": {},
   "outputs": [],
   "source": [
    "coefs = clf.coef_[0]"
   ]
  },
  {
   "cell_type": "code",
   "execution_count": 66,
   "metadata": {},
   "outputs": [
    {
     "data": {
      "image/png": "[encoded data removed]",
      "text/plain": [
       "<Figure size 432x288 with 1 Axes>"
      ]
     },
     "metadata": {},
     "output_type": "display_data"
    }
   ],
   "source": [
    "plt.plot(abs(coefs))\n",
    "plt.plot([(abs(coefs).mean() + 2 * abs(coefs).std())] * len(coefs))\n",
    "plt.show()"
   ]
  },
  {
   "cell_type": "code",
   "execution_count": 67,
   "metadata": {},
   "outputs": [],
   "source": [
    "most_important_dims = np.where(abs(coefs) >= (abs(coefs).mean() + 2 * abs(coefs).std()))[0]"
   ]
  },
  {
   "cell_type": "code",
   "execution_count": 68,
   "metadata": {},
   "outputs": [
    {
     "data": {
      "text/plain": [
       "LogisticRegression(C=1.0, class_weight=None, dual=False, fit_intercept=True,\n",
       "          intercept_scaling=1, max_iter=100, multi_class='ovr', n_jobs=1,\n",
       "          penalty='l2', random_state=None, solver='liblinear', tol=0.0001,\n",
       "          verbose=0, warm_start=False)"
      ]
     },
     "execution_count": 68,
     "metadata": {},
     "output_type": "execute_result"
    }
   ],
   "source": [
    "clf_few_dim = LogisticRegression()\n",
    "clf_few_dim.fit(\n",
    "    list(np.array(train_pos)[:, most_important_dims]) + list(np.array(train_neg)[:, most_important_dims]), \n",
    "    [1] * len(train_pos) + [0] * len(train_neg)\n",
    ")"
   ]
  },
  {
   "cell_type": "code",
   "execution_count": 76,
   "metadata": {},
   "outputs": [],
   "source": [
    "preds_few_dim = clf_few_dim.predict(\n",
    "    list(np.array(test_pos)[:, most_important_dims]) + list(np.array(test_neg)[:, most_important_dims])\n",
    ")"
   ]
  },
  {
   "cell_type": "code",
   "execution_count": 77,
   "metadata": {},
   "outputs": [
    {
     "name": "stdout",
     "output_type": "stream",
     "text": [
      "accuracy few dim 0.5664893617021277\n"
     ]
    }
   ],
   "source": [
    "print(\n",
    "    \"accuracy few dim\",\n",
    "    (np.array(preds_few_dim) == np.array([1] * len(test_pos) + [0] * len(test_neg))).mean()\n",
    ")"
   ]
  },
  {
   "cell_type": "code",
   "execution_count": 78,
   "metadata": {},
   "outputs": [
    {
     "data": {
      "text/plain": [
       "DecisionTreeClassifier(class_weight=None, criterion='gini', max_depth=None,\n",
       "            max_features=None, max_leaf_nodes=None,\n",
       "            min_impurity_decrease=0.0, min_impurity_split=None,\n",
       "            min_samples_leaf=1, min_samples_split=2,\n",
       "            min_weight_fraction_leaf=0.0, presort=False, random_state=None,\n",
       "            splitter='best')"
      ]
     },
     "execution_count": 78,
     "metadata": {},
     "output_type": "execute_result"
    }
   ],
   "source": [
    "#compare with a non linear classifier...\n",
    "clf_dt = DecisionTreeClassifier()\n",
    "clf_dt.fit(\n",
    "    list(np.array(train_pos)[:, most_important_dims]) + list(np.array(train_neg)[:, most_important_dims]), \n",
    "    [1] * len(train_pos) + [0] * len(train_neg)\n",
    ")"
   ]
  },
  {
   "cell_type": "code",
   "execution_count": 79,
   "metadata": {},
   "outputs": [],
   "source": [
    "preds_dt = clf_dt.predict(\n",
    "    list(np.array(test_pos)[:, most_important_dims]) + list(np.array(test_neg)[:, most_important_dims])\n",
    ")"
   ]
  },
  {
   "cell_type": "code",
   "execution_count": 80,
   "metadata": {},
   "outputs": [
    {
     "name": "stdout",
     "output_type": "stream",
     "text": [
      "accuracy decision tree 0.949468085106383\n"
     ]
    }
   ],
   "source": [
    "print(\n",
    "    \"accuracy decision tree\",\n",
    "    (np.array(preds_dt) == np.array([1] * len(test_pos) + [0] * len(test_neg))).mean()\n",
    ")"
   ]
  },
  {
   "cell_type": "code",
   "execution_count": 82,
   "metadata": {},
   "outputs": [
    {
     "data": {
      "text/plain": [
       "DecisionTreeClassifier(class_weight=None, criterion='gini', max_depth=None,\n",
       "            max_features=None, max_leaf_nodes=None,\n",
       "            min_impurity_decrease=0.0, min_impurity_split=None,\n",
       "            min_samples_leaf=1, min_samples_split=2,\n",
       "            min_weight_fraction_leaf=0.0, presort=False, random_state=None,\n",
       "            splitter='best')"
      ]
     },
     "execution_count": 82,
     "metadata": {},
     "output_type": "execute_result"
    }
   ],
   "source": [
    "clf_dt_all_dims = DecisionTreeClassifier()\n",
    "clf_dt_all_dims.fit(train_pos + train_neg, [1] * len(train_pos) + [0] * len(train_neg))"
   ]
  },
  {
   "cell_type": "code",
   "execution_count": 83,
   "metadata": {},
   "outputs": [],
   "source": [
    "preds_dt_all_dims = clf_dt_all_dims.predict(\n",
    "    test_pos + test_neg\n",
    ")"
   ]
  },
  {
   "cell_type": "code",
   "execution_count": 84,
   "metadata": {},
   "outputs": [
    {
     "name": "stdout",
     "output_type": "stream",
     "text": [
      "accuracy decision tree all dims 0.949468085106383\n"
     ]
    }
   ],
   "source": [
    "print(\n",
    "    \"accuracy decision tree all dims\",\n",
    "    (np.array(preds_dt_all_dims) == np.array([1] * len(test_pos) + [0] * len(test_neg))).mean()\n",
    ")"
   ]
  },
  {
   "cell_type": "code",
   "execution_count": null,
   "metadata": {},
   "outputs": [],
   "source": []
  }
 ],
 "metadata": {
  "kernelspec": {
   "display_name": "Python 3",
   "language": "python",
   "name": "python3"
  },
  "language_info": {
   "codemirror_mode": {
    "name": "ipython",
    "version": 3
   },
   "file_extension": ".py",
   "mimetype": "text/x-python",
   "name": "python",
   "nbconvert_exporter": "python",
   "pygments_lexer": "ipython3",
   "version": "3.6.4"
  }
 },
 "nbformat": 4,
 "nbformat_minor": 2
}
